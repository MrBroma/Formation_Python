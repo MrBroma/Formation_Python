{
 "cells": [
  {
   "cell_type": "code",
   "execution_count": null,
   "id": "1f1d00f0",
   "metadata": {
    "scrolled": false
   },
   "outputs": [],
   "source": [
    "\"\"\"\n",
    "Règles du jeu\n",
    "Le but de ce projet est de créer un jeu de rôle textuel dans le terminal.\n",
    "\n",
    "Le jeu comporte deux joueurs : vous et un ennemi.\n",
    "\n",
    "Vous commencez tous les deux avec 50 points de vie.\n",
    "\n",
    "Votre personnage dispose de 3 potions qui vous permettent de récupérer des points de vie.\n",
    "\n",
    "L'ennemi ne dispose d'aucune potion.\n",
    "\n",
    "Chaque potion vous permet de récupérer un nombre aléatoire de points de vie, compris entre 15 et 50.\n",
    "\n",
    "Votre attaque inflige à l'ennemi des dégâts aléatoires compris entre 5 et 10 points de vie.\n",
    "\n",
    "L'attaque de l'ennemi vous inflige des dégâts aléatoires compris entre 5 et 15 points de vie.\n",
    "\n",
    "Lorsque vous utilisez une potion, vous passez le prochain tour.\n",
    "\n",
    "👉 Déroulé de la partie\n",
    "Lorsque vous lancez le script, vous devez demander à l'utilisateur s'il souhaite attaquer ou utiliser une potion :\n",
    "\n",
    "\"Souhaitez-vous attaquer (1) ou utiliser une potion (2) ? \"\n",
    "\n",
    "Cette phrase sera demandée à l'utilisateur au début de chaque tour.\n",
    "\n",
    "?  Si l'utilisateur choisi la première option (1), vous infligez des points de dégât à l'ennemi.\n",
    "\n",
    "Ces points seront compris entre 5 et 10 et déterminés aléatoirement par le programme.\n",
    "\n",
    "?  Si l'utilisateur choisi la deuxième option (2), vous prenez une potion.\n",
    "\n",
    "Les points de vie que la potion vous donne doivent être compris entre 15 et 50 et générés aléatoirement par le programme Python.\n",
    "\n",
    "Vous devez vérifier que l'utilisateur dispose de suffisamment de potion et décrémenter le nombre de potions qu'il a dans son inventaire lorsqu'il en boit une. Si l'utilisateur n'a plus de potions, vous devez lui indiquer et lui proposer de nouveau de faire un choix (attaquer ou prendre une potion).\n",
    "\n",
    "Quand le joueur prend une potion, il passe le prochain tour.\n",
    "\n",
    "Une fois l'action du joueur exécutée, et si l'ennemi est encore vivant, il vous attaque. Si l'ennemi est mort, vous pouvez terminer le jeu et indiqué à l'utilisateur qu'il a gagné ?\n",
    "\n",
    "L'attaque de l'ennemi inflige des dégâts au joueur compris entre 5 et 15, là encore déterminés aléatoirement par le script.\n",
    "\n",
    "Si vous n'avez plus de points de vie, le jeu se termine et vous avez perdu la partie.\n",
    "\n",
    "À la fin du tour, vous devez afficher le nombre de points de vie restants du joueur et de l'ennemi.\n",
    "\n",
    "Toutes ces opérations se répètent tant que le joueur et l'ennemi sont en vie.\n",
    "\n",
    "À chaque tour, vous attaquez en premier. Il ne peut donc pas y avoir de match nul. Si lorsque vous attaquez, votre attaque fait descendre les points de vie de l'ennemi en dessous (ou égal à) 0, vous gagnez la partie sans que l'ennemi n'ait le temps de vous attaquer en retour.\n",
    "\"\"\""
   ]
  },
  {
   "cell_type": "code",
   "execution_count": null,
   "id": "7f616cd0",
   "metadata": {},
   "outputs": [],
   "source": []
  }
 ],
 "metadata": {
  "kernelspec": {
   "display_name": "Python 3 (ipykernel)",
   "language": "python",
   "name": "python3"
  },
  "language_info": {
   "codemirror_mode": {
    "name": "ipython",
    "version": 3
   },
   "file_extension": ".py",
   "mimetype": "text/x-python",
   "name": "python",
   "nbconvert_exporter": "python",
   "pygments_lexer": "ipython3",
   "version": "3.10.4"
  }
 },
 "nbformat": 4,
 "nbformat_minor": 5
}

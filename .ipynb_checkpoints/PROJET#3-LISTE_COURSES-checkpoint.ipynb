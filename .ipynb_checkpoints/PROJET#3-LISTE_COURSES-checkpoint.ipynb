{
 "cells": [
  {
   "cell_type": "code",
   "execution_count": null,
   "id": "b962ee5f",
   "metadata": {
    "scrolled": false
   },
   "outputs": [
    {
     "name": "stdout",
     "output_type": "stream",
     "text": [
      "\n",
      "__________________________________________________\n",
      "\n",
      "Choisissez parmi les 5 options suivangtes :\n",
      "1: Ajouter un élément à la liste de courses\n",
      "2: Retirer un élément de la liste de courses\n",
      "3: Afficher les éléments de la liste de courses\n",
      "4: Vider la liste de courses\n",
      "5: Quitter le programme\n",
      "Votre choix : 1\n",
      "Entrez le nom d'un élément à ajouter à la liste de courses : Pomme\n",
      "L'élément Pomme a été ajouté à la liste.\n",
      "\n",
      "__________________________________________________\n",
      "\n",
      "Choisissez parmi les 5 options suivangtes :\n",
      "1: Ajouter un élément à la liste de courses\n",
      "2: Retirer un élément de la liste de courses\n",
      "3: Afficher les éléments de la liste de courses\n",
      "4: Vider la liste de courses\n",
      "5: Quitter le programme\n",
      "Votre choix : 1\n",
      "Entrez le nom d'un élément à ajouter à la liste de courses : Banane\n",
      "L'élément Banane a été ajouté à la liste.\n",
      "\n",
      "__________________________________________________\n",
      "\n",
      "Choisissez parmi les 5 options suivangtes :\n",
      "1: Ajouter un élément à la liste de courses\n",
      "2: Retirer un élément de la liste de courses\n",
      "3: Afficher les éléments de la liste de courses\n",
      "4: Vider la liste de courses\n",
      "5: Quitter le programme\n",
      "Votre choix : 3\n",
      "La liste est vide\n"
     ]
    }
   ],
   "source": [
    "# variable choix\n",
    "choix = None\n",
    "# Création de la liste de course vide (départ)\n",
    "liste = []\n",
    "\n",
    "while choix != 5:\n",
    "    # Demander à l'utilisateur l'action a réaliser sur la liste de course\n",
    "    choix = int(input(\"\"\"\n",
    "__________________________________________________\n",
    "\n",
    "Choisissez parmi les 5 options suivangtes :\n",
    "1: Ajouter un élément à la liste de courses\n",
    "2: Retirer un élément de la liste de courses\n",
    "3: Afficher les éléments de la liste de courses\n",
    "4: Vider la liste de courses\n",
    "5: Quitter le programme\n",
    "Votre choix : \"\"\"))\n",
    "    if choix < 1 or choix > 5:\n",
    "        print(\"Veuillez choisir une question de 1 à 5 !\")\n",
    "        continue\n",
    "    \n",
    "    # condition en fonction du choix de l'utilisateur\n",
    "    if choix == 1:\n",
    "        choix1 = input(\"Entrez le nom d'un élément à ajouter à la liste de courses : \")\n",
    "        if choix1 in liste:\n",
    "            print(f\"L'élément {choix1} existe déjà dans la liste.\")\n",
    "        else:\n",
    "            liste.append(choix1)\n",
    "            print(f\"L'élément {choix1} a été ajouté à la liste.\")\n",
    "    \n",
    "    elif choix == 2:\n",
    "        choix2 = input(\"Entrez le nom d'un élément à retirer de la liste de courses : \")\n",
    "        if choix2 in liste:\n",
    "            liste.remove(choix2)\n",
    "        else:\n",
    "            print(f\"L'élément {choix2} n'est pas dans la liste.\")\n",
    "    \n",
    "    elif choix == 3:\n",
    "        if liste == []:\n",
    "            print(\"La liste est vide\")\n",
    "        else:\n",
    "            print(\"Voici le contenu de votre liste : \")\n",
    "            for i in liste:\n",
    "                print(f\"{liste.index(i) + 1}. {i}\\n\")\n",
    "        \n",
    "    elif choix == 4:\n",
    "        if liste == []:\n",
    "            print(\"La liste est déjà vide!!\")\n",
    "        else:\n",
    "            liste = []\n",
    "            print(\"La liste a été vidée de son contenu\")\n",
    "\n",
    "print(\"A bientôt !\")"
   ]
  },
  {
   "cell_type": "code",
   "execution_count": null,
   "id": "ef79cdbc",
   "metadata": {},
   "outputs": [],
   "source": []
  }
 ],
 "metadata": {
  "kernelspec": {
   "display_name": "Python 3 (ipykernel)",
   "language": "python",
   "name": "python3"
  },
  "language_info": {
   "codemirror_mode": {
    "name": "ipython",
    "version": 3
   },
   "file_extension": ".py",
   "mimetype": "text/x-python",
   "name": "python",
   "nbconvert_exporter": "python",
   "pygments_lexer": "ipython3",
   "version": "3.10.4"
  }
 },
 "nbformat": 4,
 "nbformat_minor": 5
}

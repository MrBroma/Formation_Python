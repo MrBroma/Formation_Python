{
 "cells": [
  {
   "cell_type": "code",
   "execution_count": 3,
   "id": "54f75162",
   "metadata": {},
   "outputs": [
    {
     "name": "stdout",
     "output_type": "stream",
     "text": [
      "Veuillez entrer un premier nombre : 12\n",
      "Veuillez entrer un deuxième nombre : 12\n",
      "Le résultat de l'addition du nombre 12 avec le nombre 12 est égal à 24\n"
     ]
    }
   ],
   "source": [
    "a = int(input(\"Veuillez entrer un premier nombre : \"))\n",
    "b = int(input(\"Veuillez entrer un deuxième nombre : \"))\n",
    "print(f\"Le résultat de l'addition du nombre {a} avec le nombre {b} est égal à {a + b}\")"
   ]
  },
  {
   "cell_type": "code",
   "execution_count": 10,
   "id": "1f756c88",
   "metadata": {},
   "outputs": [
    {
     "name": "stdout",
     "output_type": "stream",
     "text": [
      "Veuillez entrer un premier nombre : 1\n",
      "Veuillez entrer un deuxième nombre : d\n",
      "Veuillez entrer deux nombres valides\n",
      "Veuillez entrer un premier nombre : 2\n",
      "Veuillez entrer un deuxième nombre : 3\n",
      "Le résultat de l'addition du nombre 2 avec le nombre 3 est égal à 5\n"
     ]
    }
   ],
   "source": [
    "a = input(\"Veuillez entrer un premier nombre : \")\n",
    "b = input(\"Veuillez entrer un deuxième nombre : \")\n",
    "\n",
    "while not a.isdigit() or not b.isdigit():\n",
    "    print(\"Veuillez entrer deux nombres valides\")\n",
    "    a = input(\"Veuillez entrer un premier nombre : \")\n",
    "    b = input(\"Veuillez entrer un deuxième nombre : \")\n",
    "\n",
    "print(f\"Le résultat de l'addition du nombre {a} avec le nombre {b} est égal à {int(a) + int(b)}\")"
   ]
  },
  {
   "cell_type": "code",
   "execution_count": 11,
   "id": "1d9783db",
   "metadata": {},
   "outputs": [
    {
     "name": "stdout",
     "output_type": "stream",
     "text": [
      "Entrez un premier nombre : 1\n",
      "Entrez un deuxième nombre : f\n",
      "Veuillez entrer deux nombres valides\n",
      "Entrez un premier nombre : 12\n",
      "Entrez un deuxième nombre : 3\n",
      "Le résultat de l'addition de 12 avec 3 est égal à 15\n"
     ]
    }
   ],
   "source": [
    "# On déclare deux variables\n",
    "a = b = \"\"\n",
    "\n",
    "# Tant que a et b ne sont pas des nombres, on boucle\n",
    "while not (a.isdigit() and b.isdigit()):\n",
    "    \n",
    "    # On demande deux nombres à l'utilisateur\n",
    "    a = input(\"Entrez un premier nombre : \")\n",
    "    b = input(\"Entrez un deuxième nombre : \")\n",
    "    \n",
    "    # On affiche une phrase si les nombres entrés ne sont pas valides.\n",
    "    if not (a.isdigit() and b.isdigit()):\n",
    "        print(\"Veuillez entrer deux nombres valides\")\n",
    "\n",
    "# On affiche le résultat de l'addition\n",
    "print(f\"Le résultat de l'addition de {a} avec {b} est égal à {int(a) + int(b)}\")"
   ]
  },
  {
   "cell_type": "code",
   "execution_count": null,
   "id": "6b921112",
   "metadata": {},
   "outputs": [
    {
     "name": "stdout",
     "output_type": "stream",
     "text": [
      "Veuillez entrer un premier nombre : s\n",
      "Veuillez entrer un second nombre : 12\n",
      "Veuillez entrer deux nombres valides\n",
      "Veuillez entrer un premier nombre : 2\n",
      "Veuillez entrer un second nombre : dqsd\n",
      "Veuillez entrer deux nombres valides\n"
     ]
    }
   ],
   "source": [
    "a = (input(\"Veuillez entrer un premier nombre : \"))\n",
    "b = (input(\"Veuillez entrer un second nombre : \"))\n",
    "\n",
    "while not a.isdigit() or not b.isdigit():\n",
    "    print(\"Veuillez entrer deux nombres valides\")\n",
    "    a = (input(\"Veuillez entrer un premier nombre : \"))\n",
    "    b = (input(\"Veuillez entrer un second nombre : \"))\n",
    "\n",
    "print(f\"Le résultat de l'addition de {a} avec {b} est égal à {int(a)+int(b)}\")\n",
    "\n"
   ]
  },
  {
   "cell_type": "code",
   "execution_count": null,
   "id": "103375a3",
   "metadata": {},
   "outputs": [],
   "source": []
  }
 ],
 "metadata": {
  "kernelspec": {
   "display_name": "Python 3 (ipykernel)",
   "language": "python",
   "name": "python3"
  },
  "language_info": {
   "codemirror_mode": {
    "name": "ipython",
    "version": 3
   },
   "file_extension": ".py",
   "mimetype": "text/x-python",
   "name": "python",
   "nbconvert_exporter": "python",
   "pygments_lexer": "ipython3",
   "version": "3.10.4"
  }
 },
 "nbformat": 4,
 "nbformat_minor": 5
}

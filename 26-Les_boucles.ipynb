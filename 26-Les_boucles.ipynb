{
 "cells": [
  {
   "cell_type": "markdown",
   "id": "361bb087",
   "metadata": {},
   "source": [
    "### La boucle for\n",
    "\n",
    "- Répéter une opération une certain nombre de fois\n",
    "- Parcourir des structures de données (ex: listes)\n"
   ]
  },
  {
   "cell_type": "markdown",
   "id": "bb13b779",
   "metadata": {},
   "source": [
    "```python\n",
    "for element in liste:\n",
    "    print(element\n",
    "```"
   ]
  },
  {
   "cell_type": "code",
   "execution_count": 1,
   "id": "92c3b287",
   "metadata": {},
   "outputs": [
    {
     "name": "stdout",
     "output_type": "stream",
     "text": [
      "0\n",
      "1\n",
      "4\n",
      "7\n",
      "8\n"
     ]
    }
   ],
   "source": [
    "# boucle sur 5 nombres donc 5 itérations\n",
    "for i in [0, 1, 4, 7, 8]:\n",
    "    print(i)"
   ]
  },
  {
   "cell_type": "code",
   "execution_count": 2,
   "id": "6879aa50",
   "metadata": {},
   "outputs": [
    {
     "name": "stdout",
     "output_type": "stream",
     "text": [
      "P\n",
      "y\n",
      "t\n",
      "h\n",
      "o\n",
      "n\n"
     ]
    }
   ],
   "source": [
    "for lettre in \"Python\":\n",
    "    print(lettre)"
   ]
  },
  {
   "cell_type": "code",
   "execution_count": 3,
   "id": "77d88c59",
   "metadata": {},
   "outputs": [
    {
     "name": "stdout",
     "output_type": "stream",
     "text": [
      "Bonjour\n",
      "Bonjour\n",
      "Bonjour\n",
      "Bonjour\n",
      "Bonjour\n",
      "Bonjour\n",
      "Bonjour\n",
      "Bonjour\n",
      "Bonjour\n",
      "Bonjour\n"
     ]
    }
   ],
   "source": [
    "# Utilisation de la fonction range\n",
    "# range(10) --> liste de 0 à 9\n",
    "for i in range(10):\n",
    "    print(\"Bonjour\")"
   ]
  },
  {
   "cell_type": "markdown",
   "id": "70f5dd2c",
   "metadata": {},
   "source": [
    "### La boucle while"
   ]
  },
  {
   "cell_type": "markdown",
   "id": "931a5c92",
   "metadata": {},
   "source": [
    "```python\n",
    "while condition:\n",
    "    print(\"Bonjour\")\n",
    "    \n",
    "for in in range(10000):\n",
    "    print(\"Bonjour\")\n",
    "\n",
    "i = 0\n",
    "while i < 10000:\n",
    "    print(\"Bonjour\")\n",
    "    i += 1\n",
    "```"
   ]
  },
  {
   "cell_type": "markdown",
   "id": "c06e9d44",
   "metadata": {},
   "source": [
    "Attention car ce type de boucle peut créer des boucle infini"
   ]
  },
  {
   "cell_type": "markdown",
   "id": "7a0c1c37",
   "metadata": {},
   "source": [
    "### Les instruction continue et break\n",
    "\n",
    "#### Continue"
   ]
  },
  {
   "cell_type": "markdown",
   "id": "d9de110f",
   "metadata": {},
   "source": [
    "La présence de continue dans une boucle permet le passage à la suite"
   ]
  },
  {
   "cell_type": "code",
   "execution_count": 4,
   "id": "d9a15d25",
   "metadata": {},
   "outputs": [
    {
     "name": "stdout",
     "output_type": "stream",
     "text": [
      "Paul\n",
      "Pierre\n"
     ]
    }
   ],
   "source": [
    "liste = [\"1\", \"4\", \"25\", \"Paul\", \"3\", \"Pierre\"]\n",
    "for element in liste:\n",
    "    if element.isdigit():\n",
    "        continue\n",
    "    print(element)"
   ]
  },
  {
   "cell_type": "markdown",
   "id": "f2e9d29d",
   "metadata": {},
   "source": [
    "#### Break"
   ]
  },
  {
   "cell_type": "code",
   "execution_count": 5,
   "id": "8147966d",
   "metadata": {},
   "outputs": [],
   "source": [
    "liste = [\"1\", \"4\", \"25\", \"Paul\", \"3\", \"Pierre\"]\n",
    "for element in liste:\n",
    "    if element.isdigit():\n",
    "        break\n",
    "    print(element)"
   ]
  },
  {
   "cell_type": "markdown",
   "id": "cedac4f8",
   "metadata": {},
   "source": [
    "### La boucle for / else"
   ]
  },
  {
   "cell_type": "code",
   "execution_count": 11,
   "id": "bec86a2d",
   "metadata": {},
   "outputs": [
    {
     "name": "stdout",
     "output_type": "stream",
     "text": [
      "Patrick a été trouvé !\n"
     ]
    }
   ],
   "source": [
    "prenoms = [\"Pierre\", \"Patrick\", \"Jean\", \"Marc\"]\n",
    "\n",
    "for prenom in prenoms:\n",
    "    if prenom == \"Patrick\":\n",
    "        print(\"Patrick a été trouvé !\")\n",
    "        break\n",
    "else:\n",
    "        print(\"Patrick est introuvable...\")"
   ]
  },
  {
   "cell_type": "markdown",
   "id": "125b38c1",
   "metadata": {},
   "source": [
    "### Compréhension de liste"
   ]
  },
  {
   "cell_type": "code",
   "execution_count": 1,
   "id": "be3b7f8e",
   "metadata": {},
   "outputs": [],
   "source": [
    "liste = [-5, -4, -3, -2, -1, 0, 1, 2, 3, 4, 5]\n",
    "nombres_positifs = []\n",
    "for i in liste:\n",
    "    if i > 0:\n",
    "        nombres_positifs.append(i)"
   ]
  },
  {
   "cell_type": "code",
   "execution_count": 2,
   "id": "d1e2c9e2",
   "metadata": {},
   "outputs": [
    {
     "data": {
      "text/plain": [
       "[1, 2, 3, 4, 5]"
      ]
     },
     "execution_count": 2,
     "metadata": {},
     "output_type": "execute_result"
    }
   ],
   "source": [
    "nombres_positifs"
   ]
  },
  {
   "cell_type": "code",
   "execution_count": 3,
   "id": "d8cb45b5",
   "metadata": {},
   "outputs": [],
   "source": [
    "liste = [-5, -4, -3, -2, -1, 0, 1, 2, 3, 4, 5]\n",
    "nombres_positifs2 = [i for i in liste if i > 0]"
   ]
  },
  {
   "cell_type": "code",
   "execution_count": 4,
   "id": "598270e7",
   "metadata": {},
   "outputs": [
    {
     "data": {
      "text/plain": [
       "[1, 2, 3, 4, 5]"
      ]
     },
     "execution_count": 4,
     "metadata": {},
     "output_type": "execute_result"
    }
   ],
   "source": [
    "nombres_positifs2"
   ]
  },
  {
   "cell_type": "code",
   "execution_count": 7,
   "id": "127b7b2d",
   "metadata": {},
   "outputs": [],
   "source": [
    "liste = [-5, -4, -3, -2, -1, 0, 1, 2, 3, 4, 5]\n",
    "nombres_positifs3 = [i * 2 for i in liste if i > 0]"
   ]
  },
  {
   "cell_type": "code",
   "execution_count": 8,
   "id": "2a93534e",
   "metadata": {},
   "outputs": [
    {
     "data": {
      "text/plain": [
       "[2, 4, 6, 8, 10]"
      ]
     },
     "execution_count": 8,
     "metadata": {},
     "output_type": "execute_result"
    }
   ],
   "source": [
    "nombres_positifs3"
   ]
  },
  {
   "cell_type": "markdown",
   "id": "4b98dda0",
   "metadata": {},
   "source": [
    "### Les fonctions Any et All"
   ]
  },
  {
   "cell_type": "code",
   "execution_count": 10,
   "id": "c0c4548e",
   "metadata": {},
   "outputs": [
    {
     "data": {
      "text/plain": [
       "True"
      ]
     },
     "execution_count": 10,
     "metadata": {},
     "output_type": "execute_result"
    }
   ],
   "source": [
    "any([False, False, True, False])"
   ]
  },
  {
   "cell_type": "code",
   "execution_count": 11,
   "id": "d2d1ec15",
   "metadata": {},
   "outputs": [
    {
     "data": {
      "text/plain": [
       "False"
      ]
     },
     "execution_count": 11,
     "metadata": {},
     "output_type": "execute_result"
    }
   ],
   "source": [
    "all([False, False, True, False])"
   ]
  },
  {
   "cell_type": "code",
   "execution_count": 13,
   "id": "9b628094",
   "metadata": {
    "scrolled": true
   },
   "outputs": [],
   "source": [
    "all([f.endswith(\".jpg\") for f in files])"
   ]
  },
  {
   "cell_type": "code",
   "execution_count": 14,
   "id": "08b2e0e0",
   "metadata": {},
   "outputs": [
    {
     "data": {
      "text/plain": [
       "True"
      ]
     },
     "execution_count": 14,
     "metadata": {},
     "output_type": "execute_result"
    }
   ],
   "source": [
    "notes = [12, 14, 20, 10, 8]\n",
    "any([x > 18 for x in notes])"
   ]
  },
  {
   "cell_type": "code",
   "execution_count": null,
   "id": "d989d6d9",
   "metadata": {},
   "outputs": [],
   "source": []
  }
 ],
 "metadata": {
  "kernelspec": {
   "display_name": "Python 3 (ipykernel)",
   "language": "python",
   "name": "python3"
  },
  "language_info": {
   "codemirror_mode": {
    "name": "ipython",
    "version": 3
   },
   "file_extension": ".py",
   "mimetype": "text/x-python",
   "name": "python",
   "nbconvert_exporter": "python",
   "pygments_lexer": "ipython3",
   "version": "3.10.4"
  }
 },
 "nbformat": 4,
 "nbformat_minor": 5
}

{
 "cells": [
  {
   "cell_type": "markdown",
   "id": "9bfcf22d",
   "metadata": {},
   "source": [
    "### IMPORTANT - Quelques erreurs à éviter\n",
    "\n",
    "Il est important de ne pas créer de noms de variables qui pourraient rentrer en conflit avec des instructions de Python.\n",
    "\n",
    "Il est donc fortement déconseillé (même si c'est possible et que Python ne vous empêchera pas de le faire) de créer une variable print = 5 par exemple.\n",
    "\n",
    "La même règle s'applique aux modules !\n",
    "\n",
    "Dans les prochaines parties, je vous présente plusieurs modules, comme le module random.\n",
    "\n",
    "Plusieurs étudiants ont donc créés un fichier random.py pour tester ce module.\n",
    "\n",
    "🚨 Ce faisant, vous allez écraser le module random de Python !\n",
    "\n",
    "Quand vous allez faire import random, Python importera votre fichier au lieu du fichier random.py qui est contenu dans les sources de Python.\n",
    "\n",
    "Vous aurez donc logiquement une erreur qui vous indique que les fonctions que vous souhaitez utiliser n'existent pas :\n",
    "\n",
    "    Traceback (most recent call last):\n",
    "      File \"/Users/thibh/Documents/random.py\", line 1, in <module>\n",
    "        import random\n",
    "      File \"/Users/thibh/Documents/random.py\", line 3, in <module>\n",
    "        nombre = random.randint(1, 5)\n",
    "    AttributeError: module 'random' has no attribute 'randint'\n",
    "\n",
    "L'erreur module 'random' has no attribute 'randint' signifie que Python n'a pas trouvé la fonction randint à l'intérieur du module random, ce qui est normal puisque je l'ai écrasé en créant le fichier random.py.\n",
    "\n",
    "Faites donc bien attention à cela.\n",
    "\n",
    "Bien entendu, en tant que débutant, vous ne pouvez pas connaître le nom de tous les modules.\n",
    "\n",
    "Il se peut donc que vous créiez par inadvertance un fichier qui a le même nom qu'un module Python existant.\n",
    "\n",
    "Restez attentif donc à l'erreur ci-dessus en cas de problème.\n",
    "\n",
    "Pour vous aider, voici une liste (non-exhaustive) des principaux modules de la librairie standard de Python.\n",
    "\n",
    "Ce sont donc autant de noms qu'il faut éviter :\n",
    "\n",
    "    abc\n",
    "    aifc\n",
    "    argparse\n",
    "    array\n",
    "    ast\n",
    "    asynchat\n",
    "    asyncio\n",
    "    asyncore\n",
    "    atexit\n",
    "    audioop\n",
    "    base64\n",
    "    bdb\n",
    "    binascii\n",
    "    binhex\n",
    "    bisect\n",
    "    builtins\n",
    "    bz2\n",
    "    calendar\n",
    "    cgi\n",
    "    cgitb\n",
    "    chunk\n",
    "    cmath\n",
    "    cmd\n",
    "    code\n",
    "    codecs\n",
    "    codeop\n",
    "    colorsys\n",
    "    compileall\n",
    "    configparser\n",
    "    contextlib\n",
    "    contextvars\n",
    "    copy\n",
    "    copyreg\n",
    "    crypt\n",
    "    csv\n",
    "    ctypes\n",
    "    dataclasses\n",
    "    datetime\n",
    "    decimal\n",
    "    difflib\n",
    "    dis\n",
    "    distutils\n",
    "    doctest\n",
    "    dummy_threading\n",
    "    email\n",
    "    encodings\n",
    "    ensurepip\n",
    "    enum\n",
    "    errno\n",
    "    faulthandler\n",
    "    fcntl\n",
    "    filecmp\n",
    "    fileinput\n",
    "    fnmatch\n",
    "    formatter\n",
    "    fractions\n",
    "    ftplib\n",
    "    functools\n",
    "    gc\n",
    "    getopt\n",
    "    getpass\n",
    "    gettext\n",
    "    glob\n",
    "    grp\n",
    "    gzip\n",
    "    hashlib\n",
    "    heapq\n",
    "    hmac\n",
    "    html\n",
    "    http\n",
    "    imaplib\n",
    "    imghdr\n",
    "    imp\n",
    "    importlib\n",
    "    inspect\n",
    "    io\n",
    "    ipaddress\n",
    "    itertools\n",
    "    json\n",
    "    keyword\n",
    "    lib2to3\n",
    "    linecache\n",
    "    locale\n",
    "    logging\n",
    "    lzma\n",
    "    mailbox\n",
    "    mailcap\n",
    "    marshal\n",
    "    math\n",
    "    mimetypes\n",
    "    mmap\n",
    "    modulefinder\n",
    "    msilib\n",
    "    msvcrt\n",
    "    multiprocessing\n",
    "    netrc\n",
    "    nis\n",
    "    nntplib\n",
    "    numbers\n",
    "    operator\n",
    "    optparse\n",
    "    os\n",
    "    ossaudiodev\n",
    "    parser\n",
    "    pathlib\n",
    "    pdb\n",
    "    pickle\n",
    "    pickletools\n",
    "    pipes\n",
    "    pkgutil\n",
    "    platform\n",
    "    plistlib\n",
    "    poplib\n",
    "    posix\n",
    "    pprint\n",
    "    profile\n",
    "    pstats\n",
    "    pty\n",
    "    pwd\n",
    "    py_compile\n",
    "    pyclbr\n",
    "    pydoc\n",
    "    queue\n",
    "    quopri\n",
    "    random\n",
    "    re\n",
    "    readline\n",
    "    reprlib\n",
    "    resource\n",
    "    rlcompleter\n",
    "    runpy\n",
    "    sched\n",
    "    secrets\n",
    "    select\n",
    "    selectors\n",
    "    shelve\n",
    "    shlex\n",
    "    shutil\n",
    "    signal\n",
    "    site\n",
    "    smtpd\n",
    "    smtplib\n",
    "    sndhdr\n",
    "    socket\n",
    "    socketserver\n",
    "    spwd\n",
    "    sqlite3\n",
    "    ssl\n",
    "    stat\n",
    "    statistics\n",
    "    string\n",
    "    stringprep\n",
    "    struct\n",
    "    subprocess\n",
    "    sunau\n",
    "    symbol\n",
    "    symtable\n",
    "    sys\n",
    "    sysconfig\n",
    "    syslog\n",
    "    tabnanny\n",
    "    tarfile\n",
    "    telnetlib\n",
    "    tempfile\n",
    "    termios\n",
    "    test\n",
    "    textwrap\n",
    "    threading\n",
    "    time\n",
    "    timeit\n",
    "    tkinter\n",
    "    token\n",
    "    tokenize\n",
    "    trace\n",
    "    traceback\n",
    "    tracemalloc\n",
    "    tty\n",
    "    turtle\n",
    "    turtledemo\n",
    "    types\n",
    "    typing\n",
    "    unicodedata\n",
    "    unittest\n",
    "    urllib\n",
    "    uu\n",
    "    uuid\n",
    "    venv\n",
    "    warnings\n",
    "    wave\n",
    "    weakref\n",
    "    webbrowser\n",
    "    winreg\n",
    "    winsound\n",
    "    wsgiref\n",
    "    xdrlib\n",
    "    xml\n",
    "    xmlrpc\n",
    "    zipapp\n",
    "    zipfile\n",
    "    zipimport\n",
    "    zlib"
   ]
  },
  {
   "cell_type": "markdown",
   "id": "646ee39b",
   "metadata": {},
   "source": [
    "### Module random"
   ]
  },
  {
   "cell_type": "markdown",
   "id": "a4cdc257",
   "metadata": {},
   "source": [
    "### 1. La fonction randint()\n",
    "Récupération d'un nombre aléatoire entier entre deux valeurs"
   ]
  },
  {
   "cell_type": "code",
   "execution_count": 1,
   "id": "7bb14c17",
   "metadata": {},
   "outputs": [],
   "source": [
    "# importation du module random\n",
    "import random"
   ]
  },
  {
   "cell_type": "code",
   "execution_count": 2,
   "id": "f97c2f5d",
   "metadata": {
    "scrolled": true
   },
   "outputs": [
    {
     "data": {
      "text/plain": [
       "0"
      ]
     },
     "execution_count": 2,
     "metadata": {},
     "output_type": "execute_result"
    }
   ],
   "source": [
    "r = random.randint(0, 1)\n",
    "r"
   ]
  },
  {
   "cell_type": "markdown",
   "id": "f79b81f6",
   "metadata": {},
   "source": [
    "### 2. La fonction uniform()\n",
    "Récupération d'un nombre aléatoire décimal"
   ]
  },
  {
   "cell_type": "code",
   "execution_count": 3,
   "id": "96034a6b",
   "metadata": {},
   "outputs": [
    {
     "data": {
      "text/plain": [
       "0.3498063361499587"
      ]
     },
     "execution_count": 3,
     "metadata": {},
     "output_type": "execute_result"
    }
   ],
   "source": [
    "r = random.uniform(0,1)\n",
    "r"
   ]
  },
  {
   "cell_type": "markdown",
   "id": "df64f2b8",
   "metadata": {},
   "source": [
    "### 3. La fonction randrange\n",
    "Idem que randint mais un seul argument"
   ]
  },
  {
   "cell_type": "code",
   "execution_count": 4,
   "id": "5a2b6438",
   "metadata": {},
   "outputs": [
    {
     "data": {
      "text/plain": [
       "988"
      ]
     },
     "execution_count": 4,
     "metadata": {},
     "output_type": "execute_result"
    }
   ],
   "source": [
    "r = random.randrange(999)\n",
    "r"
   ]
  },
  {
   "cell_type": "code",
   "execution_count": 5,
   "id": "6e7654de",
   "metadata": {},
   "outputs": [
    {
     "data": {
      "text/plain": [
       "0"
      ]
     },
     "execution_count": 5,
     "metadata": {},
     "output_type": "execute_result"
    }
   ],
   "source": [
    "r = random.randrange(2)\n",
    "r"
   ]
  },
  {
   "cell_type": "code",
   "execution_count": 6,
   "id": "25fac844",
   "metadata": {},
   "outputs": [
    {
     "data": {
      "text/plain": [
       "20"
      ]
     },
     "execution_count": 6,
     "metadata": {},
     "output_type": "execute_result"
    }
   ],
   "source": [
    "# Possibilité de donner un pas\n",
    "r = random.randrange(0, 101, 10)\n",
    "r"
   ]
  },
  {
   "cell_type": "code",
   "execution_count": 7,
   "id": "e30a4838",
   "metadata": {},
   "outputs": [
    {
     "name": "stdout",
     "output_type": "stream",
     "text": [
      "29 7\n",
      "Le nombre a est plus grand que le nombre b.\n"
     ]
    }
   ],
   "source": [
    "import random\n",
    "\n",
    "a = random.randint(0, 31)\n",
    "b = random.randint(0, 31)\n",
    "\n",
    "if b > a:\n",
    "    print(\"Le nombre b est plus grand que le nombre a.\")\n",
    "elif a > b:\n",
    "    print(\"Le nombre a est plus grand que le nombre b.\")\n",
    "else:\n",
    "    print(\"Le nombre a et le nombre b sont égaux.\")"
   ]
  },
  {
   "cell_type": "code",
   "execution_count": 11,
   "id": "f091e0a6",
   "metadata": {},
   "outputs": [
    {
     "name": "stdout",
     "output_type": "stream",
     "text": [
      "Le nombre a et le nombre b sont égaux.\n"
     ]
    }
   ],
   "source": [
    "# Solution codestring\n",
    "import random\n",
    "     \n",
    "a = random.randint(0, 2)\n",
    "b = random.randint(0, 2)\n",
    "     \n",
    "if a > b:\n",
    "    print(\"Le nombre a est plus grand que le nombre b.\")\n",
    "elif a < b:\n",
    "    print(\"Le nombre b est plus grand que le nombre a.\")\n",
    "elif a == b:\n",
    "    print(\"Le nombre a et le nombre b sont égaux.\")"
   ]
  },
  {
   "cell_type": "markdown",
   "id": "0301f8ed",
   "metadata": {},
   "source": [
    "### Le module os\n",
    "Permet de modifier ou créer des dossier et fichiers"
   ]
  },
  {
   "cell_type": "markdown",
   "id": "4188c5f5",
   "metadata": {},
   "source": [
    "#### La fonction makedirs"
   ]
  },
  {
   "cell_type": "code",
   "execution_count": 31,
   "id": "35dea49a",
   "metadata": {},
   "outputs": [],
   "source": [
    "import os\n",
    "chemin = \"/home/loic/Documents\"\n",
    "dossier = os.path.join(chemin, \"dossier\", \"test\")\n",
    "os.makedirs(dossier)"
   ]
  },
  {
   "cell_type": "code",
   "execution_count": 30,
   "id": "f6753481",
   "metadata": {},
   "outputs": [],
   "source": [
    "# Créer uniquement si le dossier n'existe pas\n",
    "chemin = \"/home/loic/Documents\"\n",
    "dossier = os.path.join(chemin, \"dossier\", \"test\")\n",
    "if not os.path.exists(dossier):\n",
    "    os.makedirs(dossier)"
   ]
  },
  {
   "cell_type": "code",
   "execution_count": 47,
   "id": "882ad061",
   "metadata": {},
   "outputs": [],
   "source": [
    "chemin = \"/home/loic/Documents\"\n",
    "dossier = os.path.join(chemin, \"dossier\", \"test\")\n",
    "os.makedirs(dossier, exist_ok=True)"
   ]
  },
  {
   "cell_type": "markdown",
   "id": "19d04d16",
   "metadata": {},
   "source": [
    "#### La fonction removedirs"
   ]
  },
  {
   "cell_type": "code",
   "execution_count": 48,
   "id": "f445a46d",
   "metadata": {},
   "outputs": [],
   "source": [
    "# Il n'existe pas pour cette fonction de exist_ok= :\n",
    "# Utilisation d'une strucutre conditionnelle pour éviter le message d'erreur\n",
    "chemin = \"/home/loic/Documents\"\n",
    "dossier = os.path.join(chemin, \"dossier\", \"test\")\n",
    "os.removedirs(dossier)"
   ]
  },
  {
   "cell_type": "code",
   "execution_count": 49,
   "id": "3ec120d3",
   "metadata": {},
   "outputs": [],
   "source": [
    "chemin = \"/home/loic/Documents\"\n",
    "dossier = os.path.join(chemin, \"dossier\", \"test\")\n",
    "if os.path.exists(dossier):\n",
    "    os.removedirs(dossier)"
   ]
  },
  {
   "cell_type": "markdown",
   "id": "b443c9ff",
   "metadata": {},
   "source": [
    "### Aide avec les fonctions :"
   ]
  },
  {
   "cell_type": "code",
   "execution_count": 51,
   "id": "17db267f",
   "metadata": {},
   "outputs": [
    {
     "name": "stdout",
     "output_type": "stream",
     "text": [
      "['BPF', 'LOG4', 'NV_MAGICCONST', 'RECIP_BPF', 'Random', 'SG_MAGICCONST', 'SystemRandom', 'TWOPI', '_ONE', '_Sequence', '_Set', '__all__', '__builtins__', '__cached__', '__doc__', '__file__', '__loader__', '__name__', '__package__', '__spec__', '_accumulate', '_acos', '_bisect', '_ceil', '_cos', '_e', '_exp', '_floor', '_index', '_inst', '_isfinite', '_log', '_os', '_pi', '_random', '_repeat', '_sha512', '_sin', '_sqrt', '_test', '_test_generator', '_urandom', '_warn', 'betavariate', 'choice', 'choices', 'expovariate', 'gammavariate', 'gauss', 'getrandbits', 'getstate', 'lognormvariate', 'normalvariate', 'paretovariate', 'randbytes', 'randint', 'random', 'randrange', 'sample', 'seed', 'setstate', 'shuffle', 'triangular', 'uniform', 'vonmisesvariate', 'weibullvariate']\n"
     ]
    }
   ],
   "source": [
    "import random\n",
    "\n",
    "print(dir(random))"
   ]
  },
  {
   "cell_type": "code",
   "execution_count": 52,
   "id": "cac1bafb",
   "metadata": {},
   "outputs": [
    {
     "name": "stdout",
     "output_type": "stream",
     "text": [
      "Help on method randint in module random:\n",
      "\n",
      "randint(a, b) method of random.Random instance\n",
      "    Return random integer in range [a, b], including both end points.\n",
      "\n"
     ]
    }
   ],
   "source": [
    "# Pas de parenthèses après rendint\n",
    "help(random.randint)"
   ]
  },
  {
   "cell_type": "code",
   "execution_count": 54,
   "id": "bd7c5b9c",
   "metadata": {},
   "outputs": [
    {
     "name": "stdout",
     "output_type": "stream",
     "text": [
      "Help on method uniform in module random:\n",
      "\n",
      "uniform(a, b) method of random.Random instance\n",
      "    Get a random number in the range [a, b) or [a, b] depending on rounding.\n",
      "\n"
     ]
    }
   ],
   "source": [
    "help(random.uniform)"
   ]
  },
  {
   "cell_type": "code",
   "execution_count": 55,
   "id": "2f57be6e",
   "metadata": {},
   "outputs": [
    {
     "name": "stdout",
     "output_type": "stream",
     "text": [
      "['BPF',\n",
      " 'LOG4',\n",
      " 'NV_MAGICCONST',\n",
      " 'RECIP_BPF',\n",
      " 'Random',\n",
      " 'SG_MAGICCONST',\n",
      " 'SystemRandom',\n",
      " 'TWOPI',\n",
      " '_ONE',\n",
      " '_Sequence',\n",
      " '_Set',\n",
      " '__all__',\n",
      " '__builtins__',\n",
      " '__cached__',\n",
      " '__doc__',\n",
      " '__file__',\n",
      " '__loader__',\n",
      " '__name__',\n",
      " '__package__',\n",
      " '__spec__',\n",
      " '_accumulate',\n",
      " '_acos',\n",
      " '_bisect',\n",
      " '_ceil',\n",
      " '_cos',\n",
      " '_e',\n",
      " '_exp',\n",
      " '_floor',\n",
      " '_index',\n",
      " '_inst',\n",
      " '_isfinite',\n",
      " '_log',\n",
      " '_os',\n",
      " '_pi',\n",
      " '_random',\n",
      " '_repeat',\n",
      " '_sha512',\n",
      " '_sin',\n",
      " '_sqrt',\n",
      " '_test',\n",
      " '_test_generator',\n",
      " '_urandom',\n",
      " '_warn',\n",
      " 'betavariate',\n",
      " 'choice',\n",
      " 'choices',\n",
      " 'expovariate',\n",
      " 'gammavariate',\n",
      " 'gauss',\n",
      " 'getrandbits',\n",
      " 'getstate',\n",
      " 'lognormvariate',\n",
      " 'normalvariate',\n",
      " 'paretovariate',\n",
      " 'randbytes',\n",
      " 'randint',\n",
      " 'random',\n",
      " 'randrange',\n",
      " 'sample',\n",
      " 'seed',\n",
      " 'setstate',\n",
      " 'shuffle',\n",
      " 'triangular',\n",
      " 'uniform',\n",
      " 'vonmisesvariate',\n",
      " 'weibullvariate']\n"
     ]
    }
   ],
   "source": [
    "import random\n",
    "from pprint import pprint\n",
    "\n",
    "pprint(dir(random))"
   ]
  },
  {
   "cell_type": "code",
   "execution_count": null,
   "id": "0adc936f",
   "metadata": {},
   "outputs": [],
   "source": []
  }
 ],
 "metadata": {
  "kernelspec": {
   "display_name": "Python 3 (ipykernel)",
   "language": "python",
   "name": "python3"
  },
  "language_info": {
   "codemirror_mode": {
    "name": "ipython",
    "version": 3
   },
   "file_extension": ".py",
   "mimetype": "text/x-python",
   "name": "python",
   "nbconvert_exporter": "python",
   "pygments_lexer": "ipython3",
   "version": "3.10.4"
  }
 },
 "nbformat": 4,
 "nbformat_minor": 5
}

{
 "cells": [
  {
   "cell_type": "markdown",
   "id": "b3d95aa7",
   "metadata": {},
   "source": [
    "### Changer la casse"
   ]
  },
  {
   "cell_type": "code",
   "execution_count": 1,
   "id": "ccd7fb4f",
   "metadata": {},
   "outputs": [
    {
     "data": {
      "text/plain": [
       "'BONJOUR'"
      ]
     },
     "execution_count": 1,
     "metadata": {},
     "output_type": "execute_result"
    }
   ],
   "source": [
    "\"Bonjour\".upper()"
   ]
  },
  {
   "cell_type": "code",
   "execution_count": 2,
   "id": "be70997a",
   "metadata": {},
   "outputs": [
    {
     "data": {
      "text/plain": [
       "'bonjour'"
      ]
     },
     "execution_count": 2,
     "metadata": {},
     "output_type": "execute_result"
    }
   ],
   "source": [
    "\"Bonjour\".lower()"
   ]
  },
  {
   "cell_type": "code",
   "execution_count": 3,
   "id": "ef062b9f",
   "metadata": {},
   "outputs": [
    {
     "data": {
      "text/plain": [
       "'Bonjour tous le monde'"
      ]
     },
     "execution_count": 3,
     "metadata": {},
     "output_type": "execute_result"
    }
   ],
   "source": [
    "\"bonjour tous le monde\".capitalize()"
   ]
  },
  {
   "cell_type": "code",
   "execution_count": 4,
   "id": "84e0e5ed",
   "metadata": {},
   "outputs": [
    {
     "data": {
      "text/plain": [
       "'Bonjour Tous Le Monde'"
      ]
     },
     "execution_count": 4,
     "metadata": {},
     "output_type": "execute_result"
    }
   ],
   "source": [
    "\"bonjour tous le monde\".title()"
   ]
  },
  {
   "cell_type": "markdown",
   "id": "f9e0f03f",
   "metadata": {},
   "source": [
    "### Remplacer des éléments"
   ]
  },
  {
   "cell_type": "code",
   "execution_count": 5,
   "id": "70ec535e",
   "metadata": {},
   "outputs": [
    {
     "data": {
      "text/plain": [
       "'bonsoir'"
      ]
     },
     "execution_count": 5,
     "metadata": {},
     "output_type": "execute_result"
    }
   ],
   "source": [
    "\"bonjour\".replace(\"jour\", \"soir\")"
   ]
  },
  {
   "cell_type": "code",
   "execution_count": 6,
   "id": "c30576b3",
   "metadata": {},
   "outputs": [
    {
     "data": {
      "text/plain": [
       "'bonsoir bonsoir'"
      ]
     },
     "execution_count": 6,
     "metadata": {},
     "output_type": "execute_result"
    }
   ],
   "source": [
    "\"bonjour bonjour\".replace(\"jour\", \"soir\")"
   ]
  },
  {
   "cell_type": "code",
   "execution_count": 7,
   "id": "a042ac8c",
   "metadata": {},
   "outputs": [
    {
     "data": {
      "text/plain": [
       "'bonjourbonjour'"
      ]
     },
     "execution_count": 7,
     "metadata": {},
     "output_type": "execute_result"
    }
   ],
   "source": [
    "\"bonjour bonjour\".replace(\" \", \"\")"
   ]
  },
  {
   "cell_type": "code",
   "execution_count": 8,
   "id": "526a2071",
   "metadata": {},
   "outputs": [
    {
     "data": {
      "text/plain": [
       "'bonsoirbonsoir'"
      ]
     },
     "execution_count": 8,
     "metadata": {},
     "output_type": "execute_result"
    }
   ],
   "source": [
    "\"bonjour bonjour\".replace(\" \", \"\").replace(\"jour\", \"soir\")"
   ]
  },
  {
   "cell_type": "code",
   "execution_count": 9,
   "id": "7bd1f9bf",
   "metadata": {},
   "outputs": [
    {
     "data": {
      "text/plain": [
       "'bonjour'"
      ]
     },
     "execution_count": 9,
     "metadata": {},
     "output_type": "execute_result"
    }
   ],
   "source": [
    "\"  bonjour  \".strip()"
   ]
  },
  {
   "cell_type": "code",
   "execution_count": 10,
   "id": "45bb4977",
   "metadata": {
    "scrolled": true
   },
   "outputs": [
    {
     "data": {
      "text/plain": [
       "'bon  jour'"
      ]
     },
     "execution_count": 10,
     "metadata": {},
     "output_type": "execute_result"
    }
   ],
   "source": [
    "\"  bon  jour  \".strip()"
   ]
  },
  {
   "cell_type": "code",
   "execution_count": 11,
   "id": "94877f1a",
   "metadata": {},
   "outputs": [
    {
     "data": {
      "text/plain": [
       "'bon'"
      ]
     },
     "execution_count": 11,
     "metadata": {},
     "output_type": "execute_result"
    }
   ],
   "source": [
    "\"  bonjour  \".strip(\" ujor\")"
   ]
  },
  {
   "cell_type": "code",
   "execution_count": 14,
   "id": "ee88e4b3",
   "metadata": {},
   "outputs": [
    {
     "data": {
      "text/plain": [
       "'  bon'"
      ]
     },
     "execution_count": 14,
     "metadata": {},
     "output_type": "execute_result"
    }
   ],
   "source": [
    "\"  bonjour  \".rstrip(\" ujor\")"
   ]
  },
  {
   "cell_type": "code",
   "execution_count": 15,
   "id": "9f57e5c6",
   "metadata": {},
   "outputs": [
    {
     "data": {
      "text/plain": [
       "'bonjour  '"
      ]
     },
     "execution_count": 15,
     "metadata": {},
     "output_type": "execute_result"
    }
   ],
   "source": [
    "\"  bonjour  \".lstrip(\" ujor\")"
   ]
  },
  {
   "cell_type": "markdown",
   "id": "d0452d3a",
   "metadata": {},
   "source": [
    "### Séparer et joindre"
   ]
  },
  {
   "cell_type": "code",
   "execution_count": 19,
   "id": "4b29a222",
   "metadata": {},
   "outputs": [
    {
     "data": {
      "text/plain": [
       "['1', '2', '3', '4', '5']"
      ]
     },
     "execution_count": 19,
     "metadata": {},
     "output_type": "execute_result"
    }
   ],
   "source": [
    "\"1, 2, 3, 4, 5\".split(\", \")"
   ]
  },
  {
   "cell_type": "code",
   "execution_count": 20,
   "id": "83ac08fc",
   "metadata": {},
   "outputs": [
    {
     "data": {
      "text/plain": [
       "'1, 2, 3, 4, 5'"
      ]
     },
     "execution_count": 20,
     "metadata": {},
     "output_type": "execute_result"
    }
   ],
   "source": [
    "\", \".join(\"1, 2, 3, 4, 5\".split(\", \"))"
   ]
  },
  {
   "cell_type": "code",
   "execution_count": 21,
   "id": "435a3580",
   "metadata": {},
   "outputs": [
    {
     "data": {
      "text/plain": [
       "'1. 2. 3. 4. 5'"
      ]
     },
     "execution_count": 21,
     "metadata": {},
     "output_type": "execute_result"
    }
   ],
   "source": [
    "\". \".join(\"1, 2, 3, 4, 5\".split(\", \"))"
   ]
  },
  {
   "cell_type": "code",
   "execution_count": 22,
   "id": "41972886",
   "metadata": {},
   "outputs": [
    {
     "ename": "TypeError",
     "evalue": "sequence item 0: expected str instance, int found",
     "output_type": "error",
     "traceback": [
      "\u001b[0;31m---------------------------------------------------------------------------\u001b[0m",
      "\u001b[0;31mTypeError\u001b[0m                                 Traceback (most recent call last)",
      "Input \u001b[0;32mIn [22]\u001b[0m, in \u001b[0;36m<cell line: 1>\u001b[0;34m()\u001b[0m\n\u001b[0;32m----> 1\u001b[0m \u001b[38;5;124;43m\"\u001b[39;49m\u001b[38;5;124;43m-\u001b[39;49m\u001b[38;5;124;43m\"\u001b[39;49m\u001b[38;5;241;43m.\u001b[39;49m\u001b[43mjoin\u001b[49m\u001b[43m(\u001b[49m\u001b[43m[\u001b[49m\u001b[38;5;241;43m1\u001b[39;49m\u001b[43m,\u001b[49m\u001b[43m \u001b[49m\u001b[38;5;241;43m2\u001b[39;49m\u001b[43m,\u001b[49m\u001b[43m \u001b[49m\u001b[38;5;241;43m3\u001b[39;49m\u001b[43m]\u001b[49m\u001b[43m)\u001b[49m\n",
      "\u001b[0;31mTypeError\u001b[0m: sequence item 0: expected str instance, int found"
     ]
    }
   ],
   "source": [
    "\"-\".join([1, 2, 3])"
   ]
  },
  {
   "cell_type": "code",
   "execution_count": 23,
   "id": "a8a8c69b",
   "metadata": {},
   "outputs": [
    {
     "data": {
      "text/plain": [
       "'1-2-3'"
      ]
     },
     "execution_count": 23,
     "metadata": {},
     "output_type": "execute_result"
    }
   ],
   "source": [
    "\"-\".join(['1', '2', '3'])"
   ]
  },
  {
   "cell_type": "markdown",
   "id": "81390919",
   "metadata": {},
   "source": [
    "### Remplir de zéros"
   ]
  },
  {
   "cell_type": "code",
   "execution_count": 25,
   "id": "71ded38a",
   "metadata": {},
   "outputs": [
    {
     "data": {
      "text/plain": [
       "'0009'"
      ]
     },
     "execution_count": 25,
     "metadata": {},
     "output_type": "execute_result"
    }
   ],
   "source": [
    "\"9\".zfill(4)"
   ]
  },
  {
   "cell_type": "code",
   "execution_count": 26,
   "id": "d4045c22",
   "metadata": {},
   "outputs": [
    {
     "data": {
      "text/plain": [
       "'009'"
      ]
     },
     "execution_count": 26,
     "metadata": {},
     "output_type": "execute_result"
    }
   ],
   "source": [
    "\"9\".zfill(3)"
   ]
  },
  {
   "cell_type": "code",
   "execution_count": 28,
   "id": "a5f725ec",
   "metadata": {},
   "outputs": [
    {
     "name": "stdout",
     "output_type": "stream",
     "text": [
      "0\n",
      "1\n",
      "2\n",
      "3\n",
      "4\n",
      "5\n",
      "6\n",
      "7\n",
      "8\n",
      "9\n",
      "10\n",
      "11\n",
      "12\n",
      "13\n",
      "14\n",
      "15\n",
      "16\n",
      "17\n",
      "18\n",
      "19\n"
     ]
    }
   ],
   "source": [
    "for i in range(20):\n",
    "    print(i)"
   ]
  },
  {
   "cell_type": "code",
   "execution_count": 31,
   "id": "e42f19d3",
   "metadata": {},
   "outputs": [
    {
     "name": "stdout",
     "output_type": "stream",
     "text": [
      "0000\n",
      "0001\n",
      "0002\n",
      "0003\n",
      "0004\n",
      "0005\n",
      "0006\n",
      "0007\n",
      "0008\n",
      "0009\n",
      "0010\n",
      "0011\n",
      "0012\n",
      "0013\n",
      "0014\n",
      "0015\n",
      "0016\n",
      "0017\n",
      "0018\n",
      "0019\n",
      "0020\n"
     ]
    }
   ],
   "source": [
    "# Uniquement sur une chaine de caractères\n",
    "for i in range(21):\n",
    "    print(str(i).zfill(4))"
   ]
  },
  {
   "cell_type": "markdown",
   "id": "cd9822ad",
   "metadata": {},
   "source": [
    "### Les méthodes 'is'"
   ]
  },
  {
   "cell_type": "code",
   "execution_count": 32,
   "id": "a79171e1",
   "metadata": {},
   "outputs": [
    {
     "data": {
      "text/plain": [
       "True"
      ]
     },
     "execution_count": 32,
     "metadata": {},
     "output_type": "execute_result"
    }
   ],
   "source": [
    "\"bonjour\".islower()"
   ]
  },
  {
   "cell_type": "code",
   "execution_count": 33,
   "id": "d6a7bfce",
   "metadata": {},
   "outputs": [
    {
     "data": {
      "text/plain": [
       "False"
      ]
     },
     "execution_count": 33,
     "metadata": {},
     "output_type": "execute_result"
    }
   ],
   "source": [
    "\"Bonjour\".islower()"
   ]
  },
  {
   "cell_type": "code",
   "execution_count": 35,
   "id": "66056f60",
   "metadata": {},
   "outputs": [
    {
     "data": {
      "text/plain": [
       "False"
      ]
     },
     "execution_count": 35,
     "metadata": {},
     "output_type": "execute_result"
    }
   ],
   "source": [
    "\"Bonjour tous le monde\".istitle()"
   ]
  },
  {
   "cell_type": "code",
   "execution_count": 39,
   "id": "9c009667",
   "metadata": {},
   "outputs": [
    {
     "data": {
      "text/plain": [
       "True"
      ]
     },
     "execution_count": 39,
     "metadata": {},
     "output_type": "execute_result"
    }
   ],
   "source": [
    "# Utiliser souvent --> isdigit()\n",
    "\"50\".isdigit()"
   ]
  },
  {
   "cell_type": "code",
   "execution_count": 40,
   "id": "4e372392",
   "metadata": {},
   "outputs": [
    {
     "data": {
      "text/plain": [
       "False"
      ]
     },
     "execution_count": 40,
     "metadata": {},
     "output_type": "execute_result"
    }
   ],
   "source": [
    "\"50i\".isdigit()"
   ]
  },
  {
   "cell_type": "code",
   "execution_count": 45,
   "id": "04fbf335",
   "metadata": {},
   "outputs": [
    {
     "name": "stdout",
     "output_type": "stream",
     "text": [
      "Rentrer un nombre: 50m\n"
     ]
    }
   ],
   "source": [
    "a = input(\"Rentrer un nombre: \")"
   ]
  },
  {
   "cell_type": "code",
   "execution_count": 46,
   "id": "061dbf37",
   "metadata": {},
   "outputs": [
    {
     "data": {
      "text/plain": [
       "False"
      ]
     },
     "execution_count": 46,
     "metadata": {},
     "output_type": "execute_result"
    }
   ],
   "source": [
    "a.isdigit()"
   ]
  },
  {
   "cell_type": "markdown",
   "id": "75ca830a",
   "metadata": {},
   "source": [
    "### Compter les occurences"
   ]
  },
  {
   "cell_type": "code",
   "execution_count": 47,
   "id": "afae7db6",
   "metadata": {},
   "outputs": [
    {
     "data": {
      "text/plain": [
       "2"
      ]
     },
     "execution_count": 47,
     "metadata": {},
     "output_type": "execute_result"
    }
   ],
   "source": [
    "\"Bonjour le jour\".count(\"jour\")"
   ]
  },
  {
   "cell_type": "code",
   "execution_count": 50,
   "id": "e34abdaa",
   "metadata": {},
   "outputs": [
    {
     "data": {
      "text/plain": [
       "1"
      ]
     },
     "execution_count": 50,
     "metadata": {},
     "output_type": "execute_result"
    }
   ],
   "source": [
    "\"Bonjour le jour\".count(\" jour\")"
   ]
  },
  {
   "cell_type": "markdown",
   "id": "e5720912",
   "metadata": {},
   "source": [
    "### Trouver une chaîne"
   ]
  },
  {
   "cell_type": "code",
   "execution_count": 64,
   "id": "ea2ec9ad",
   "metadata": {},
   "outputs": [
    {
     "data": {
      "text/plain": [
       "3"
      ]
     },
     "execution_count": 64,
     "metadata": {},
     "output_type": "execute_result"
    }
   ],
   "source": [
    "# Retourne -1 si non trouvé\n",
    "\"Bonjour le jour\".find(\"jour\")"
   ]
  },
  {
   "cell_type": "code",
   "execution_count": 65,
   "id": "c19eded8",
   "metadata": {},
   "outputs": [
    {
     "data": {
      "text/plain": [
       "3"
      ]
     },
     "execution_count": 65,
     "metadata": {},
     "output_type": "execute_result"
    }
   ],
   "source": [
    "# Error: substring not find\n",
    "\"Bonjour le jour\".index(\"jour\")"
   ]
  },
  {
   "cell_type": "code",
   "execution_count": 66,
   "id": "165ef40c",
   "metadata": {},
   "outputs": [
    {
     "data": {
      "text/plain": [
       "11"
      ]
     },
     "execution_count": 66,
     "metadata": {},
     "output_type": "execute_result"
    }
   ],
   "source": [
    "# Chercher en partant de la fin\n",
    "# lfind() n'existe pas\n",
    "\"Bonjour le jour\".rfind(\"jour\")"
   ]
  },
  {
   "cell_type": "markdown",
   "id": "c62f83fb",
   "metadata": {},
   "source": [
    "### Chercher au début et à la fin"
   ]
  },
  {
   "cell_type": "markdown",
   "id": "65728919",
   "metadata": {},
   "source": [
    "Ne pas oublier le 's' après end ou start"
   ]
  },
  {
   "cell_type": "code",
   "execution_count": 67,
   "id": "0fb2dfc8",
   "metadata": {},
   "outputs": [
    {
     "data": {
      "text/plain": [
       "True"
      ]
     },
     "execution_count": 67,
     "metadata": {},
     "output_type": "execute_result"
    }
   ],
   "source": [
    "\"image.png\".endswith(\".png\")"
   ]
  },
  {
   "cell_type": "code",
   "execution_count": 68,
   "id": "b48e9245",
   "metadata": {},
   "outputs": [
    {
     "data": {
      "text/plain": [
       "False"
      ]
     },
     "execution_count": 68,
     "metadata": {},
     "output_type": "execute_result"
    }
   ],
   "source": [
    "\"image.png\".endswith(\".jpg\")"
   ]
  },
  {
   "cell_type": "code",
   "execution_count": 69,
   "id": "a72abad6",
   "metadata": {},
   "outputs": [
    {
     "data": {
      "text/plain": [
       "True"
      ]
     },
     "execution_count": 69,
     "metadata": {},
     "output_type": "execute_result"
    }
   ],
   "source": [
    "\"image.png\".startswith(\"image\")"
   ]
  },
  {
   "cell_type": "code",
   "execution_count": 70,
   "id": "a690aecb",
   "metadata": {
    "scrolled": true
   },
   "outputs": [
    {
     "data": {
      "text/plain": [
       "False"
      ]
     },
     "execution_count": 70,
     "metadata": {},
     "output_type": "execute_result"
    }
   ],
   "source": [
    "\"image.png\".startswith(\"video\")"
   ]
  },
  {
   "cell_type": "markdown",
   "id": "1156a8e8",
   "metadata": {},
   "source": [
    "### Exercise"
   ]
  },
  {
   "cell_type": "code",
   "execution_count": 140,
   "id": "6dcc4df5",
   "metadata": {},
   "outputs": [],
   "source": [
    "chaine = \"Pierre, Julien, Anne, Marie, Lucien\"\n",
    "chaine_list = chaine.split(\", \")\n",
    "chaine_list.sort()\n",
    "chaine_en_ordre = \", \".join(chaine_list)"
   ]
  },
  {
   "cell_type": "code",
   "execution_count": 141,
   "id": "26ac4dd2",
   "metadata": {},
   "outputs": [
    {
     "name": "stdout",
     "output_type": "stream",
     "text": [
      "Anne, Julien, Lucien, Marie, Pierre\n"
     ]
    }
   ],
   "source": [
    "print(chaine_en_ordre)"
   ]
  },
  {
   "cell_type": "code",
   "execution_count": null,
   "id": "0ef14c9c",
   "metadata": {},
   "outputs": [],
   "source": []
  }
 ],
 "metadata": {
  "kernelspec": {
   "display_name": "Python 3 (ipykernel)",
   "language": "python",
   "name": "python3"
  },
  "language_info": {
   "codemirror_mode": {
    "name": "ipython",
    "version": 3
   },
   "file_extension": ".py",
   "mimetype": "text/x-python",
   "name": "python",
   "nbconvert_exporter": "python",
   "pygments_lexer": "ipython3",
   "version": "3.10.5"
  }
 },
 "nbformat": 4,
 "nbformat_minor": 5
}

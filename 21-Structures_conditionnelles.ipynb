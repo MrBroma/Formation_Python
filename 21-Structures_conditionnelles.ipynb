{
 "cells": [
  {
   "cell_type": "markdown",
   "id": "3deb3732",
   "metadata": {},
   "source": [
    "### Structures conditionnelles"
   ]
  },
  {
   "cell_type": "markdown",
   "id": "e88187d7",
   "metadata": {},
   "source": [
    "- Le nombre entré par l'utilisateur est-il plus grand ou égal à 18 ?  \n",
    "age >= 18  \n",
    "\n",
    "\n",
    "- Le nom de l'utilisateur entré est-il dans la base de donnée du site ?  \n",
    "nom_utilisateur in list_utilisateurs  \n",
    "\n",
    "\n",
    "- Le mot de passe de l'utilisateur contienr-il 8 caractères?  \n",
    "len(mot_de_pass) > 8"
   ]
  },
  {
   "cell_type": "markdown",
   "id": "68471979",
   "metadata": {},
   "source": [
    "### Condition if"
   ]
  },
  {
   "cell_type": "code",
   "execution_count": 4,
   "id": "cdb2b10f",
   "metadata": {},
   "outputs": [
    {
     "name": "stdout",
     "output_type": "stream",
     "text": [
      "Vous êtes majeur!\n"
     ]
    }
   ],
   "source": [
    "age = 20\n",
    "if age >= 18:\n",
    "    print(\"Vous êtes majeur!\")"
   ]
  },
  {
   "cell_type": "markdown",
   "id": "a5eb568b",
   "metadata": {},
   "source": [
    "A la fin du if on a les :  \n",
    "\n",
    "\n",
    "Et la condition subit une indentation  "
   ]
  },
  {
   "cell_type": "markdown",
   "id": "48e9a93e",
   "metadata": {},
   "source": [
    "### Les blocs d'instructions"
   ]
  },
  {
   "cell_type": "markdown",
   "id": "4c322879",
   "metadata": {},
   "source": [
    "Les blocs d'instructions dépendent de la mise en page"
   ]
  },
  {
   "cell_type": "markdown",
   "id": "55395a75",
   "metadata": {},
   "source": [
    "### Tester plusieurs conditions"
   ]
  },
  {
   "cell_type": "markdown",
   "id": "e27a75be",
   "metadata": {},
   "source": [
    "```python\n",
    "if age >=18:  \n",
    "    print(\"Vous êtes majeur\")  \n",
    "elif age < 18:  \n",
    "    print(\"Vous êtes mineur\")\n",
    "```"
   ]
  },
  {
   "cell_type": "markdown",
   "id": "42e73a72",
   "metadata": {},
   "source": [
    "### Structure conditionnelle avancée avec else\n",
    "\n",
    "```python\n",
    "utilisateur = \"root\"\n",
    "if utilisateur == \"admin\":\n",
    "    print(\"Accès autorisé !\")\n",
    "elif utilisateur == \"root\":\n",
    "    print(\"Accès autorisé !\")\n",
    "else:\n",
    "    print(\"Accès refusé !\")\n",
    "```"
   ]
  },
  {
   "cell_type": "markdown",
   "id": "af2225f6",
   "metadata": {},
   "source": [
    "### Opérateurs ternaires"
   ]
  },
  {
   "cell_type": "markdown",
   "id": "e165613e",
   "metadata": {},
   "source": [
    "```python\n",
    "age = 20\n",
    "\n",
    "if age >= 18:\n",
    "    majeur = True\n",
    "else:\n",
    "    majeur = False\n",
    "\n",
    "# Ne fonctionne uniquement avec un if / else\n",
    "age = 20\n",
    "\n",
    "majeur = True if age >= 18 else False\n",
    "```"
   ]
  },
  {
   "cell_type": "code",
   "execution_count": null,
   "id": "a2f92302",
   "metadata": {},
   "outputs": [],
   "source": []
  },
  {
   "cell_type": "code",
   "execution_count": null,
   "id": "8f98f89b",
   "metadata": {},
   "outputs": [],
   "source": []
  }
 ],
 "metadata": {
  "kernelspec": {
   "display_name": "Python 3 (ipykernel)",
   "language": "python",
   "name": "python3"
  },
  "language_info": {
   "codemirror_mode": {
    "name": "ipython",
    "version": 3
   },
   "file_extension": ".py",
   "mimetype": "text/x-python",
   "name": "python",
   "nbconvert_exporter": "python",
   "pygments_lexer": "ipython3",
   "version": "3.10.5"
  }
 },
 "nbformat": 4,
 "nbformat_minor": 5
}

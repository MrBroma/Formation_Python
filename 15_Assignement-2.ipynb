{
 "cells": [
  {
   "cell_type": "code",
   "execution_count": 2,
   "id": "2bef1c03",
   "metadata": {},
   "outputs": [
    {
     "name": "stdout",
     "output_type": "stream",
     "text": [
      "Quel est votre prénom ?: Loïc\n",
      "Quelle est votre ville de naissance ?: Drancy\n",
      "Quel est votre age ?: 35\n",
      "Prénom : Loïc\n",
      "Ville : Drancy\n",
      "Age : 35\n"
     ]
    }
   ],
   "source": [
    "# Demander le prénom, la ville de naissance et l'âge de la personne qui utilise le script\n",
    "prenom = input(\"Quel est votre prénom ?: \")\n",
    "ville = input(\"Quelle est votre ville de naissance ?: \")\n",
    "age = input(\"Quel est votre age ?: \")\n",
    "\n",
    "\n",
    "# Afficher ces trois informations\n",
    "print(\"Prénom : \" + prenom)\n",
    "print(\"Ville : \" + ville)\n",
    "print(\"Age : \" + age)\n"
   ]
  },
  {
   "cell_type": "code",
   "execution_count": null,
   "id": "9d05fa11",
   "metadata": {},
   "outputs": [],
   "source": []
  }
 ],
 "metadata": {
  "kernelspec": {
   "display_name": "Python 3 (ipykernel)",
   "language": "python",
   "name": "python3"
  },
  "language_info": {
   "codemirror_mode": {
    "name": "ipython",
    "version": 3
   },
   "file_extension": ".py",
   "mimetype": "text/x-python",
   "name": "python",
   "nbconvert_exporter": "python",
   "pygments_lexer": "ipython3",
   "version": "3.10.5"
  }
 },
 "nbformat": 4,
 "nbformat_minor": 5
}

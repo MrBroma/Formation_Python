{
 "cells": [
  {
   "cell_type": "code",
   "execution_count": 3,
   "id": "b962ee5f",
   "metadata": {
    "scrolled": false
   },
   "outputs": [
    {
     "name": "stdout",
     "output_type": "stream",
     "text": [
      "\n",
      "__________________________________________________\n",
      "\n",
      "Choisissez parmi les 5 options suivantes :\n",
      "1: Ajouter un élément à la liste de courses\n",
      "2: Retirer un élément de la liste de courses\n",
      "3: Afficher les éléments de la liste de courses\n",
      "4: Vider la liste de courses\n",
      "5: Quitter le programme\n",
      "Votre choix : 5\n",
      "A bientôt !\n"
     ]
    }
   ],
   "source": [
    "# variable choix\n",
    "choix = \"None\"\n",
    "# Création de la liste de course vide (départ)\n",
    "liste = []\n",
    "\n",
    "while choix != \"5\":\n",
    "    # Demander à l'utilisateur l'action a réaliser sur la liste de course\n",
    "    choix = input(\"\"\"\n",
    "__________________________________________________\n",
    "\n",
    "Choisissez parmi les 5 options suivantes :\n",
    "1: Ajouter un élément à la liste de courses\n",
    "2: Retirer un élément de la liste de courses\n",
    "3: Afficher les éléments de la liste de courses\n",
    "4: Vider la liste de courses\n",
    "5: Quitter le programme\n",
    "Votre choix : \"\"\")\n",
    "    if not choix.isdigit():\n",
    "        print(\"Veuillez choisir une question de 1 à 5 !\")\n",
    "    \n",
    "    if choix.isdigit():\n",
    "        choix = int(choix)\n",
    "        if choix < 1 or choix > 5:\n",
    "            print(\"Veuillez choisir une question de 1 à 5 !\")\n",
    "            continue\n",
    "  \n",
    "    # condition en fonction du choix de l'utilisateur\n",
    "    if choix == 1:\n",
    "        choix1 = input(\"Entrez le nom d'un élément à ajouter à la liste de courses : \")\n",
    "        if choix1 in liste:\n",
    "            print(f\"L'élément {choix1} existe déjà dans la liste.\")\n",
    "        else:\n",
    "            liste.append(choix1)\n",
    "            print(f\"L'élément {choix1} a été ajouté à la liste.\")\n",
    "    \n",
    "    elif choix == 2:\n",
    "        choix2 = input(\"Entrez le nom d'un élément à retirer de la liste de courses : \")\n",
    "        if choix2 in liste:\n",
    "            liste.remove(choix2)\n",
    "            print(f\"L'élément {choix2} a été supprimé de la liste.\")\n",
    "\n",
    "        else:\n",
    "            print(f\"L'élément {choix2} n'est pas dans la liste.\")\n",
    "    \n",
    "    elif choix == 3:\n",
    "        if liste == []:\n",
    "            print(\"La liste est vide\")\n",
    "        else:\n",
    "            print(\"Voici le contenu de votre liste : \")\n",
    "            for i in liste:\n",
    "                print(f\"{liste.index(i) + 1}. {i}\\n\")\n",
    "        \n",
    "    elif choix == 4:\n",
    "        if liste == []:\n",
    "            print(\"La liste est déjà vide!!\")\n",
    "        else:\n",
    "            liste = []\n",
    "            print(\"La liste a été vidée de son contenu\")\n",
    "    else:\n",
    "        choix = str(choix)\n",
    "\n",
    "print(\"A bientôt !\")"
   ]
  },
  {
   "cell_type": "code",
   "execution_count": 4,
   "id": "5b550ea4",
   "metadata": {},
   "outputs": [
    {
     "name": "stdout",
     "output_type": "stream",
     "text": [
      "Choisissez parmi les 5 options suivantes :\n",
      "1: Ajouter un élément à la liste\n",
      "2: Retirer un élément de la liste\n",
      "3: Afficher la liste\n",
      "4: Vider la liste\n",
      "5: Quitter\n",
      "? Votre choix : 2\n",
      "Entrez le nom d'un élément à retirer de la liste de courses : Pomme\n",
      "L'élément Pomme n'est pas dans la liste.\n",
      "--------------------------------------------------\n",
      "Choisissez parmi les 5 options suivantes :\n",
      "1: Ajouter un élément à la liste\n",
      "2: Retirer un élément de la liste\n",
      "3: Afficher la liste\n",
      "4: Vider la liste\n",
      "5: Quitter\n",
      "? Votre choix : 5\n",
      "À bientôt !\n"
     ]
    },
    {
     "ename": "SystemExit",
     "evalue": "",
     "output_type": "error",
     "traceback": [
      "An exception has occurred, use %tb to see the full traceback.\n",
      "\u001b[0;31mSystemExit\u001b[0m\n"
     ]
    },
    {
     "name": "stderr",
     "output_type": "stream",
     "text": [
      "/home/loic/anaconda3/envs/jupyterlab/lib/python3.10/site-packages/IPython/core/interactiveshell.py:3406: UserWarning: To exit: use 'exit', 'quit', or Ctrl-D.\n",
      "  warn(\"To exit: use 'exit', 'quit', or Ctrl-D.\", stacklevel=1)\n"
     ]
    }
   ],
   "source": [
    "import sys\n",
    "\n",
    "LISTE = []\n",
    "\n",
    "MENU = \"\"\"Choisissez parmi les 5 options suivantes :\n",
    "1: Ajouter un élément à la liste\n",
    "2: Retirer un élément de la liste\n",
    "3: Afficher la liste\n",
    "4: Vider la liste\n",
    "5: Quitter\n",
    "? Votre choix : \"\"\"\n",
    "\n",
    "MENU_CHOICES = [\"1\", \"2\", \"3\", \"4\", \"5\"]\n",
    "\n",
    "\n",
    "\n",
    "while True:\n",
    "    user_choice = input(MENU)\n",
    "    if user_choice not in MENU_CHOICES:\n",
    "        print(\"Veuillez choisir une option valide...\")\n",
    "        continue\n",
    "\n",
    "    if user_choice == \"1\":  # Ajouter un élément\n",
    "        item = input(\"Entrez le nom d'un élément à ajouter à la liste de courses : \")\n",
    "        LISTE.append(item)\n",
    "        print(f\"L'élément {item} a bien été ajouté à la liste.\")\n",
    "    elif user_choice == \"2\":  # Retirer un élément\n",
    "        item = input(\"Entrez le nom d'un élément à retirer de la liste de courses : \")\n",
    "        if item in LISTE:\n",
    "            LISTE.remove(item)\n",
    "            print(f\"L'élément {item} a bien été supprimé de la liste.\")\n",
    "        else:\n",
    "            print(f\"L'élément {item} n'est pas dans la liste.\")\n",
    "    elif user_choice == \"3\":  # Afficher la liste\n",
    "        if LISTE:\n",
    "            print(\"Voici le contenu de votre liste :\")\n",
    "            for i, item in enumerate(LISTE, 1):\n",
    "                print(f\"{i}. {item}\")\n",
    "        else:\n",
    "            print(\"Votre liste ne contient aucun élément.\")\n",
    "    elif user_choice == \"4\":  # Vider la liste\n",
    "        LISTE.clear()\n",
    "        print(\"La liste a été vidée de son contenu.\")\n",
    "    elif user_choice == \"5\":  # Quitter\n",
    "        print(\"À bientôt !\")\n",
    "        sys.exit()\n",
    "\n",
    "    print(\"-\" * 50)"
   ]
  },
  {
   "cell_type": "code",
   "execution_count": null,
   "id": "8f1a0912",
   "metadata": {},
   "outputs": [],
   "source": []
  }
 ],
 "metadata": {
  "kernelspec": {
   "display_name": "Python 3.10.6 64-bit",
   "language": "python",
   "name": "python3"
  },
  "language_info": {
   "codemirror_mode": {
    "name": "ipython",
    "version": 3
   },
   "file_extension": ".py",
   "mimetype": "text/x-python",
   "name": "python",
   "nbconvert_exporter": "python",
   "pygments_lexer": "ipython3",
   "version": "3.10.6"
  },
  "vscode": {
   "interpreter": {
    "hash": "e7370f93d1d0cde622a1f8e1c04877d8463912d04d973331ad4851f04de6915a"
   }
  }
 },
 "nbformat": 4,
 "nbformat_minor": 5
}

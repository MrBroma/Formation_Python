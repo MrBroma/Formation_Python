{
 "cells": [
  {
   "cell_type": "markdown",
   "id": "f5e4f957",
   "metadata": {},
   "source": [
    "   ### Concaténation et f-string"
   ]
  },
  {
   "cell_type": "code",
   "execution_count": 1,
   "id": "4a77c745",
   "metadata": {},
   "outputs": [
    {
     "data": {
      "text/plain": [
       "'Bonjourtouslemonde'"
      ]
     },
     "execution_count": 1,
     "metadata": {},
     "output_type": "execute_result"
    }
   ],
   "source": [
    "\"Bonjour\" + \"tous\" + \"le\" + \"monde\""
   ]
  },
  {
   "cell_type": "code",
   "execution_count": 2,
   "id": "832e1658",
   "metadata": {},
   "outputs": [
    {
     "data": {
      "text/plain": [
       "'Vous avez entré le nombre 5'"
      ]
     },
     "execution_count": 2,
     "metadata": {},
     "output_type": "execute_result"
    }
   ],
   "source": [
    "\"Vous avez entré le nombre \" + str(5)"
   ]
  },
  {
   "cell_type": "markdown",
   "id": "b7dbcd4c",
   "metadata": {},
   "source": [
    "f-string"
   ]
  },
  {
   "cell_type": "code",
   "execution_count": null,
   "id": "a9b0302c",
   "metadata": {},
   "outputs": [],
   "source": []
  }
 ],
 "metadata": {
  "kernelspec": {
   "display_name": "Python 3 (ipykernel)",
   "language": "python",
   "name": "python3"
  },
  "language_info": {
   "codemirror_mode": {
    "name": "ipython",
    "version": 3
   },
   "file_extension": ".py",
   "mimetype": "text/x-python",
   "name": "python",
   "nbconvert_exporter": "python",
   "pygments_lexer": "ipython3",
   "version": "3.10.5"
  }
 },
 "nbformat": 4,
 "nbformat_minor": 5
}

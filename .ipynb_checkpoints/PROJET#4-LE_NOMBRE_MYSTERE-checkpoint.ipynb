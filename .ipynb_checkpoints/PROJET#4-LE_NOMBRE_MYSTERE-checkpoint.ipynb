{
 "cells": [
  {
   "cell_type": "code",
   "execution_count": 3,
   "id": "ef152c8e",
   "metadata": {
    "scrolled": true
   },
   "outputs": [
    {
     "name": "stdout",
     "output_type": "stream",
     "text": [
      "*** Le jeu du nombre mystère ***\n",
      "Il te reste 5 essais\n",
      "Devine le nombre : 2\n",
      "Le nombre mystère est plus petit que 2\n",
      "Il te reste 4 essais\n",
      "Devine le nombre : 1\n",
      "Le nombre mystère est plus petit que 1\n",
      "Il te reste 3 essais\n",
      "Devine le nombre : 0\n",
      "Le nombre mystère est plus grand que 0\n",
      "Il te reste 2 essais\n",
      "Devine le nombre : 1\n",
      "Le nombre mystère est plus petit que 1\n",
      "Il te reste 1 essais\n",
      "Devine le nombre : 1\n",
      "Le nombre mystère est plus petit que 1\n",
      "Dommage ! Le nombre mystère était 0\n",
      " Fin du jeu.\n"
     ]
    }
   ],
   "source": [
    "import random\n",
    "# message d'accueil\n",
    "print(\"*** Le jeu du nombre mystère ***\")\n",
    "\n",
    "# Activation du compteur de tentative\n",
    "count = 5\n",
    "essai = 0\n",
    "nombre_mys = random.randint(0, 101)\n",
    "\n",
    "MENU_CHOICES = \n",
    "\n",
    "while count > 0:\n",
    "    print(f\"Il te reste {count} essais\")\n",
    "    user_choice = int(input(\"Devine le nombre : \"))\n",
    "    count -= 1\n",
    "    essai += 1\n",
    "\n",
    "    if user_choice not in MENU_CHOICES:\n",
    "        print(\"Veuillez choisir une option valide...\")\n",
    "        continue\n",
    "    \n",
    "    if nombre > nombre_mys:\n",
    "        print(f\"Le nombre mystère est plus petit que {nombre}\")\n",
    "    elif nombre < nombre_mys:\n",
    "        print(f\"Le nombre mystère est plus grand que {nombre}\")\n",
    "    else:\n",
    "        print(f\"Bravo ! Le nombre mystère était bien {nombre_mys} !\")\n",
    "        print(f\"Tu as trouvé le nombre mystère en {essai} essai.\")\n",
    "\n",
    "print(f\"Dommage ! Le nombre mystère était {nombre_mys}\\n Fin du jeu.\")\n",
    "    \n"
   ]
  },
  {
   "cell_type": "code",
   "execution_count": null,
   "id": "f18fd213",
   "metadata": {},
   "outputs": [],
   "source": []
  }
 ],
 "metadata": {
  "kernelspec": {
   "display_name": "Python 3 (ipykernel)",
   "language": "python",
   "name": "python3"
  },
  "language_info": {
   "codemirror_mode": {
    "name": "ipython",
    "version": 3
   },
   "file_extension": ".py",
   "mimetype": "text/x-python",
   "name": "python",
   "nbconvert_exporter": "python",
   "pygments_lexer": "ipython3",
   "version": "3.10.4"
  }
 },
 "nbformat": 4,
 "nbformat_minor": 5
}

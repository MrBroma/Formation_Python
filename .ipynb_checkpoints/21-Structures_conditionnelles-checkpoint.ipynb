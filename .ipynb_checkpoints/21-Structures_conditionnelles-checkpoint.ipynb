{
 "cells": [
  {
   "cell_type": "markdown",
   "id": "c0434164",
   "metadata": {},
   "source": [
    "### Structures conditionnelles"
   ]
  },
  {
   "cell_type": "markdown",
   "id": "330ae79f",
   "metadata": {},
   "source": [
    "- Le nombre entré par l'utilisateur est-il plus grand ou égal à 18 ?  \n",
    "age >= 18  \n",
    "\n",
    "\n",
    "- Le nom de l'utilisateur entré est-il dans la base de donnée du site ?  \n",
    "nom_utilisateur in list_utilisateurs  \n",
    "\n",
    "\n",
    "- Le mot de passe de l'utilisateur contienr-il 8 caractères?  \n",
    "len(mot_de_pass) > 8"
   ]
  },
  {
   "cell_type": "code",
   "execution_count": null,
   "id": "eb1d9e22",
   "metadata": {},
   "outputs": [],
   "source": []
  }
 ],
 "metadata": {
  "kernelspec": {
   "display_name": "Python 3 (ipykernel)",
   "language": "python",
   "name": "python3"
  },
  "language_info": {
   "codemirror_mode": {
    "name": "ipython",
    "version": 3
   },
   "file_extension": ".py",
   "mimetype": "text/x-python",
   "name": "python",
   "nbconvert_exporter": "python",
   "pygments_lexer": "ipython3",
   "version": "3.10.5"
  }
 },
 "nbformat": 4,
 "nbformat_minor": 5
}

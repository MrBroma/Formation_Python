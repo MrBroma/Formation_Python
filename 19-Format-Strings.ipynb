{
 "cells": [
  {
   "cell_type": "markdown",
   "id": "5aa2ab69",
   "metadata": {},
   "source": [
    "   ### Concaténation et f-string"
   ]
  },
  {
   "cell_type": "code",
   "execution_count": 1,
   "id": "e79748b6",
   "metadata": {},
   "outputs": [
    {
     "data": {
      "text/plain": [
       "'Bonjourtouslemonde'"
      ]
     },
     "execution_count": 1,
     "metadata": {},
     "output_type": "execute_result"
    }
   ],
   "source": [
    "\"Bonjour\" + \"tous\" + \"le\" + \"monde\""
   ]
  },
  {
   "cell_type": "code",
   "execution_count": 2,
   "id": "8ba6362e",
   "metadata": {},
   "outputs": [
    {
     "data": {
      "text/plain": [
       "'Vous avez entré le nombre 5'"
      ]
     },
     "execution_count": 2,
     "metadata": {},
     "output_type": "execute_result"
    }
   ],
   "source": [
    "\"Vous avez entré le nombre \" + str(5)"
   ]
  },
  {
   "cell_type": "markdown",
   "id": "ba29cef0",
   "metadata": {},
   "source": [
    "Les f-string"
   ]
  },
  {
   "cell_type": "code",
   "execution_count": 3,
   "id": "22bb9134",
   "metadata": {},
   "outputs": [
    {
     "data": {
      "text/plain": [
       "'Bonjour Paul !'"
      ]
     },
     "execution_count": 3,
     "metadata": {},
     "output_type": "execute_result"
    }
   ],
   "source": [
    "prenom = \"Paul\"\n",
    "f\"Bonjour {prenom} !\""
   ]
  },
  {
   "cell_type": "code",
   "execution_count": 4,
   "id": "6737df8b",
   "metadata": {},
   "outputs": [
    {
     "data": {
      "text/plain": [
       "'La multiplication de 5 par 10 est égale à 50'"
      ]
     },
     "execution_count": 4,
     "metadata": {},
     "output_type": "execute_result"
    }
   ],
   "source": [
    "a = 5\n",
    "b = 10\n",
    "f\"La multiplication de {a} par {b} est égale à {a * b}\""
   ]
  },
  {
   "cell_type": "markdown",
   "id": "5ff8d0df",
   "metadata": {},
   "source": [
    "### La méthode format"
   ]
  },
  {
   "cell_type": "code",
   "execution_count": 13,
   "id": "3796acde",
   "metadata": {},
   "outputs": [
    {
     "name": "stdout",
     "output_type": "stream",
     "text": [
      "J'ai 26 age\n"
     ]
    }
   ],
   "source": [
    "age = 26\n",
    "phrase = f\"J'ai {age} age\".format(age)\n",
    "print(phrase)"
   ]
  },
  {
   "cell_type": "code",
   "execution_count": 22,
   "id": "1c3f64ca",
   "metadata": {},
   "outputs": [
    {
     "data": {
      "text/plain": [
       "\"Je m'apelle Pierre et j'ai 26 ans.\""
      ]
     },
     "execution_count": 22,
     "metadata": {},
     "output_type": "execute_result"
    }
   ],
   "source": [
    "prenom = \"Pierre\"\n",
    "age = 26\n",
    "phrase = \"Je m'apelle {} et j'ai {} ans.\".format(prenom, age)\n",
    "phrase"
   ]
  },
  {
   "cell_type": "code",
   "execution_count": 23,
   "id": "2f10891d",
   "metadata": {},
   "outputs": [
    {
     "data": {
      "text/plain": [
       "\"Je m'apelle Pierre et j'ai 26 ans.\""
      ]
     },
     "execution_count": 23,
     "metadata": {},
     "output_type": "execute_result"
    }
   ],
   "source": [
    "prenom = \"Pierre\"\n",
    "age = 26\n",
    "phrase = \"Je m'apelle {p} et j'ai {a} ans.\".format(p=prenom, a=age)\n",
    "phrase"
   ]
  },
  {
   "cell_type": "code",
   "execution_count": 25,
   "id": "829b4452",
   "metadata": {},
   "outputs": [
    {
     "data": {
      "text/plain": [
       "\"Je m'apelle Jean et j'ai 32 ans.\""
      ]
     },
     "execution_count": 25,
     "metadata": {},
     "output_type": "execute_result"
    }
   ],
   "source": [
    "prenom = \"Jean\"\n",
    "age = 32\n",
    "phrase = \"Je m'apelle {0} et j'ai {1} ans.\".format(prenom, age)\n",
    "phrase"
   ]
  },
  {
   "cell_type": "markdown",
   "id": "3ce77158",
   "metadata": {},
   "source": [
    "### Exemple"
   ]
  },
  {
   "cell_type": "code",
   "execution_count": 36,
   "id": "6c02a480",
   "metadata": {},
   "outputs": [],
   "source": [
    "protocole = \"https://\"\n",
    "nom_du_site = \"docstring\"\n",
    "extension = \"fr\"\n",
    " \n",
    "# Avec l'opérateur +\n",
    "url0 = protocole + \"www.\" + nom_du_site + \".\" + extension\n",
    "\n",
    "# Avec la méthode format\n",
    "url1 = \"{}www.{}.{}\".format(protocole, nom_du_site, extension)\n",
    "url2= \"{protocole}www.{domain}.{extension}\".format(protocole=protocole, domain=nom_du_site, extension=\"fr\")\n",
    "\n",
    "\n",
    "# Avec les f-string\n",
    "url3 = f\"{protocole}www.{nom_du_site}.{extension}\""
   ]
  },
  {
   "cell_type": "code",
   "execution_count": 37,
   "id": "810857d3",
   "metadata": {},
   "outputs": [
    {
     "name": "stdout",
     "output_type": "stream",
     "text": [
      "https://www.docstring.fr\n",
      "https://www.docstring.fr\n",
      "https://www.docstring.fr\n",
      "https://www.docstring.fr\n"
     ]
    }
   ],
   "source": [
    "print(url0)\n",
    "print(url1)\n",
    "print(url2)\n",
    "print(url3)"
   ]
  },
  {
   "cell_type": "markdown",
   "id": "fabd927f",
   "metadata": {},
   "source": [
    "### Dans quel cas utiliser la méthode format"
   ]
  },
  {
   "cell_type": "code",
   "execution_count": null,
   "id": "7210c96f",
   "metadata": {},
   "outputs": [],
   "source": [
    "#main.py\n",
    "from constants import BONJOUR\n",
    "\n",
    "user = input(\"Entrez votre nom d'utilisateur : \")\n",
    "progression = get_weekly_progress(user)\n",
    "\n",
    "message_de_bienvenue = BONJOUR.format(prenom=user, nombre_videos=progression)\n",
    "print(message_de_bienvenue)"
   ]
  },
  {
   "cell_type": "markdown",
   "id": "b7df8ec0",
   "metadata": {},
   "source": [
    "## Projet #1 : LA CALCULATRICE"
   ]
  },
  {
   "cell_type": "code",
   "execution_count": 46,
   "id": "4a286b7e",
   "metadata": {},
   "outputs": [
    {
     "name": "stdout",
     "output_type": "stream",
     "text": [
      "Veuillez entrer un premier nombre : 1200\n",
      "Veuillez entrer un deuxième nombre : 5698\n",
      "Le résultat de l'addition du nombre 1200 avec le nombre 5698 est égal à 6898\n"
     ]
    }
   ],
   "source": [
    "a = int(input(\"Veuillez entrer un premier nombre : \"))\n",
    "b = int(input(\"Veuillez entrer un deuxième nombre : \"))\n",
    "print(f\"Le résultat de l'addition du nombre {a} avec le nombre {b} est égal à {a + b}\")"
   ]
  },
  {
   "cell_type": "code",
   "execution_count": 48,
   "id": "0e33713d",
   "metadata": {},
   "outputs": [
    {
     "name": "stdout",
     "output_type": "stream",
     "text": [
      "Veuillez entrer un premier nombre : 816486416786417674\n",
      "Veuillez entrer un deuxième nombre : 486246416468\n",
      "Le résultat de l'addition du nombre 816486416786417674 avec le nombre 486246416468 est égal à 816486903032834142\n"
     ]
    }
   ],
   "source": [
    "a = input(\"Veuillez entrer un premier nombre : \")\n",
    "b = input(\"Veuillez entrer un deuxième nombre : \")\n",
    "print(f\"Le résultat de l'addition du nombre {a} avec le nombre {b} est égal à {int(a) + int(b)}\")"
   ]
  },
  {
   "cell_type": "code",
   "execution_count": null,
   "id": "a796b2ff",
   "metadata": {},
   "outputs": [],
   "source": []
  }
 ],
 "metadata": {
  "kernelspec": {
   "display_name": "Python 3 (ipykernel)",
   "language": "python",
   "name": "python3"
  },
  "language_info": {
   "codemirror_mode": {
    "name": "ipython",
    "version": 3
   },
   "file_extension": ".py",
   "mimetype": "text/x-python",
   "name": "python",
   "nbconvert_exporter": "python",
   "pygments_lexer": "ipython3",
   "version": "3.10.5"
  }
 },
 "nbformat": 4,
 "nbformat_minor": 5
}

{
 "cells": [
  {
   "cell_type": "code",
   "execution_count": 1,
   "id": "54f75162",
   "metadata": {},
   "outputs": [
    {
     "name": "stdout",
     "output_type": "stream",
     "text": [
      "Veuillez entrer un premier nombre : 12\n",
      "Veuillez entrer un deuxième nombre : 23\n",
      "Le résultat de l'addition du nombre 12 avec le nombre 23 est égal à 35\n"
     ]
    }
   ],
   "source": [
    "a = int(input(\"Veuillez entrer un premier nombre : \"))\n",
    "b = int(input(\"Veuillez entrer un deuxième nombre : \"))\n",
    "print(f\"Le résultat de l'addition du nombre {a} avec le nombre {b} est égal à {a + b}\")"
   ]
  },
  {
   "cell_type": "code",
   "execution_count": 4,
   "id": "1f756c88",
   "metadata": {},
   "outputs": [
    {
     "name": "stdout",
     "output_type": "stream",
     "text": [
      "Veuillez entrer un premier nombre : 12\n",
      "Veuillez entrer un deuxième nombre : 2\n",
      "Le résultat de l'addition du nombre 12 avec le nombre 2 est égal à 14\n"
     ]
    }
   ],
   "source": [
    "a = int(input(\"Veuillez entrer un premier nombre : \"))\n",
    "b = int(input(\"Veuillez entrer un deuxième nombre : \"))\n",
    "\n",
    "\n",
    "\n",
    "\n",
    "\n",
    "\n",
    "\n",
    "\n",
    "\n",
    "\n",
    "\n",
    "print(f\"Le résultat de l'addition du nombre {a} avec le nombre {b} est égal à {a + b}\")"
   ]
  },
  {
   "cell_type": "code",
   "execution_count": null,
   "id": "1d9783db",
   "metadata": {},
   "outputs": [],
   "source": []
  }
 ],
 "metadata": {
  "kernelspec": {
   "display_name": "Python 3 (ipykernel)",
   "language": "python",
   "name": "python3"
  },
  "language_info": {
   "codemirror_mode": {
    "name": "ipython",
    "version": 3
   },
   "file_extension": ".py",
   "mimetype": "text/x-python",
   "name": "python",
   "nbconvert_exporter": "python",
   "pygments_lexer": "ipython3",
   "version": "3.10.4"
  }
 },
 "nbformat": 4,
 "nbformat_minor": 5
}

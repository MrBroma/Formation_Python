{
 "cells": [
  {
   "cell_type": "markdown",
   "id": "5b0fee11",
   "metadata": {},
   "source": [
    "### Méthodes vs Fonctions"
   ]
  },
  {
   "cell_type": "markdown",
   "id": "2e79687f",
   "metadata": {},
   "source": [
    "Une méthode est une fonction qui appartient à un objet\n",
    "    \n",
    "La fonction sorted pemret de trier une liste : **sorted(liste)**\n",
    "    \n",
    "La méthode sort permet de trier une liste : **liste.sort()**"
   ]
  },
  {
   "cell_type": "markdown",
   "id": "3fdb7941",
   "metadata": {},
   "source": [
    "Le fonction sorted va nous retourner une version ordonnée de la liste mais sans toucher à la liste d'origine"
   ]
  },
  {
   "cell_type": "code",
   "execution_count": 3,
   "id": "e0bb590d",
   "metadata": {},
   "outputs": [
    {
     "name": "stdout",
     "output_type": "stream",
     "text": [
      "[5, 3, 9, 7, 1]\n"
     ]
    }
   ],
   "source": [
    "liste = [5, 3, 9, 7, 1]\n",
    "sorted(liste)\n",
    "print(liste)"
   ]
  },
  {
   "cell_type": "code",
   "execution_count": 5,
   "id": "4a20765c",
   "metadata": {},
   "outputs": [
    {
     "name": "stdout",
     "output_type": "stream",
     "text": [
      "[1, 3, 5, 7, 9]\n"
     ]
    }
   ],
   "source": [
    "liste = [5, 3, 9, 7, 1]\n",
    "sorted_liste = sorted(liste)\n",
    "print(sorted_liste)"
   ]
  },
  {
   "cell_type": "markdown",
   "id": "c052e0d1",
   "metadata": {},
   "source": [
    "Si on réalise sorted sur notre liste elle sera écrasée"
   ]
  },
  {
   "cell_type": "code",
   "execution_count": 7,
   "id": "7e53094a",
   "metadata": {},
   "outputs": [
    {
     "name": "stdout",
     "output_type": "stream",
     "text": [
      "[1, 3, 5, 7, 9]\n"
     ]
    }
   ],
   "source": [
    "liste = [5, 3, 9, 7, 1]\n",
    "liste = liste.sort()\n",
    "print(liste)"
   ]
  },
  {
   "cell_type": "code",
   "execution_count": 8,
   "id": "b2b9e063",
   "metadata": {},
   "outputs": [
    {
     "data": {
      "text/plain": [
       "5"
      ]
     },
     "execution_count": 8,
     "metadata": {},
     "output_type": "execute_result"
    }
   ],
   "source": [
    "a = \"5\"\n",
    "int(a)"
   ]
  },
  {
   "cell_type": "code",
   "execution_count": 9,
   "id": "2414acb9",
   "metadata": {},
   "outputs": [
    {
     "data": {
      "text/plain": [
       "'5'"
      ]
     },
     "execution_count": 9,
     "metadata": {},
     "output_type": "execute_result"
    }
   ],
   "source": [
    "a"
   ]
  },
  {
   "cell_type": "code",
   "execution_count": 10,
   "id": "1d3f0ba1",
   "metadata": {},
   "outputs": [],
   "source": [
    "a = int(a)"
   ]
  },
  {
   "cell_type": "code",
   "execution_count": 11,
   "id": "ee91611e",
   "metadata": {},
   "outputs": [
    {
     "name": "stdout",
     "output_type": "stream",
     "text": [
      "5\n"
     ]
    }
   ],
   "source": [
    "print(a)"
   ]
  },
  {
   "cell_type": "markdown",
   "id": "eaf8a4b9",
   "metadata": {},
   "source": [
    "### Les objets muables et immuables"
   ]
  },
  {
   "cell_type": "code",
   "execution_count": 14,
   "id": "9d61366f",
   "metadata": {},
   "outputs": [
    {
     "name": "stdout",
     "output_type": "stream",
     "text": [
      "le seigneur des anneaux\n"
     ]
    }
   ],
   "source": [
    "livre = \"le seigneur des anneaux\"\n",
    "livre.title()\n",
    "print(livre)"
   ]
  },
  {
   "cell_type": "markdown",
   "id": "ffc66da1",
   "metadata": {},
   "source": [
    "Différent de liste.append()"
   ]
  },
  {
   "cell_type": "code",
   "execution_count": 16,
   "id": "403d351f",
   "metadata": {},
   "outputs": [
    {
     "name": "stdout",
     "output_type": "stream",
     "text": [
      "Le Seigneur Des Anneaux\n"
     ]
    }
   ],
   "source": [
    "livre = livre.title()\n",
    "print(livre)"
   ]
  },
  {
   "cell_type": "markdown",
   "id": "5abb94ae",
   "metadata": {},
   "source": [
    "### Fonctions supp"
   ]
  },
  {
   "cell_type": "markdown",
   "id": "e16d4317",
   "metadata": {},
   "source": [
    "#### La fonction len()"
   ]
  },
  {
   "cell_type": "code",
   "execution_count": 18,
   "id": "869fc426",
   "metadata": {},
   "outputs": [
    {
     "data": {
      "text/plain": [
       "6"
      ]
     },
     "execution_count": 18,
     "metadata": {},
     "output_type": "execute_result"
    }
   ],
   "source": [
    "len(\"Python\")"
   ]
  },
  {
   "cell_type": "code",
   "execution_count": 19,
   "id": "ecf6fe4c",
   "metadata": {},
   "outputs": [
    {
     "data": {
      "text/plain": [
       "3"
      ]
     },
     "execution_count": 19,
     "metadata": {},
     "output_type": "execute_result"
    }
   ],
   "source": [
    "len([1, 2, 3])"
   ]
  },
  {
   "cell_type": "markdown",
   "id": "df4a43b2",
   "metadata": {},
   "source": [
    "#### La fonction round()"
   ]
  },
  {
   "cell_type": "code",
   "execution_count": 20,
   "id": "52b7bdc6",
   "metadata": {},
   "outputs": [
    {
     "data": {
      "text/plain": [
       "2"
      ]
     },
     "execution_count": 20,
     "metadata": {},
     "output_type": "execute_result"
    }
   ],
   "source": [
    "round(2.2)"
   ]
  },
  {
   "cell_type": "code",
   "execution_count": 21,
   "id": "658e6355",
   "metadata": {},
   "outputs": [
    {
     "data": {
      "text/plain": [
       "3"
      ]
     },
     "execution_count": 21,
     "metadata": {},
     "output_type": "execute_result"
    }
   ],
   "source": [
    "round(2.7)"
   ]
  },
  {
   "cell_type": "markdown",
   "id": "279b93ef",
   "metadata": {},
   "source": [
    "#### Les fonction min() et max()"
   ]
  },
  {
   "cell_type": "code",
   "execution_count": 22,
   "id": "4ec75cd2",
   "metadata": {},
   "outputs": [
    {
     "data": {
      "text/plain": [
       "1"
      ]
     },
     "execution_count": 22,
     "metadata": {},
     "output_type": "execute_result"
    }
   ],
   "source": [
    "min([1, 2, 3])"
   ]
  },
  {
   "cell_type": "code",
   "execution_count": 23,
   "id": "7be86699",
   "metadata": {},
   "outputs": [
    {
     "data": {
      "text/plain": [
       "3"
      ]
     },
     "execution_count": 23,
     "metadata": {},
     "output_type": "execute_result"
    }
   ],
   "source": [
    "max([1, 2, 3])"
   ]
  },
  {
   "cell_type": "code",
   "execution_count": 24,
   "id": "f91c0b73",
   "metadata": {},
   "outputs": [
    {
     "data": {
      "text/plain": [
       "'a'"
      ]
     },
     "execution_count": 24,
     "metadata": {},
     "output_type": "execute_result"
    }
   ],
   "source": [
    "min(\"abc\")"
   ]
  },
  {
   "cell_type": "code",
   "execution_count": 25,
   "id": "64994e5f",
   "metadata": {},
   "outputs": [
    {
     "data": {
      "text/plain": [
       "'c'"
      ]
     },
     "execution_count": 25,
     "metadata": {},
     "output_type": "execute_result"
    }
   ],
   "source": [
    "max(\"abc\")"
   ]
  },
  {
   "cell_type": "code",
   "execution_count": 26,
   "id": "74d38ef3",
   "metadata": {},
   "outputs": [
    {
     "data": {
      "text/plain": [
       "'e'"
      ]
     },
     "execution_count": 26,
     "metadata": {},
     "output_type": "execute_result"
    }
   ],
   "source": [
    "min(\"selfie\")"
   ]
  },
  {
   "cell_type": "markdown",
   "id": "ca3bb424",
   "metadata": {},
   "source": [
    "#### Fonction sum()"
   ]
  },
  {
   "cell_type": "code",
   "execution_count": 43,
   "id": "f4750425",
   "metadata": {},
   "outputs": [
    {
     "data": {
      "text/plain": [
       "30"
      ]
     },
     "execution_count": 43,
     "metadata": {},
     "output_type": "execute_result"
    }
   ],
   "source": [
    "sum([10, 10, 10])"
   ]
  },
  {
   "cell_type": "markdown",
   "id": "6e19d184",
   "metadata": {},
   "source": [
    "#### Fonction range()"
   ]
  },
  {
   "cell_type": "code",
   "execution_count": 44,
   "id": "a2a609ee",
   "metadata": {},
   "outputs": [
    {
     "data": {
      "text/plain": [
       "range(0, 5)"
      ]
     },
     "execution_count": 44,
     "metadata": {},
     "output_type": "execute_result"
    }
   ],
   "source": [
    "# Utilisation dans les boucles pour obtenir une liste de nombre\n",
    "# Un nombre aléatoire entre 0 et 5-1\n",
    "range(5)"
   ]
  },
  {
   "cell_type": "markdown",
   "id": "df2335e1",
   "metadata": {},
   "source": [
    "### La fonction range avec Python 3\n",
    "\n",
    "Avec Python 3, la fonction range ne retourne pas directement une liste, mais un objet de type range :\n",
    "\n",
    "    >>> interval = range(10)\n",
    "    >>> print(interval)\n",
    "    range(0, 10)\n",
    "    >>> print(type(interval))\n",
    "    <class 'range'>\n",
    "\n",
    "Cet objet contient plusieurs attributs qui vous permettent d'obtenir des informations sur ce range :\n",
    "\n",
    "    >>> interval.start\n",
    "    0\n",
    "    >>> interval.step\n",
    "    1\n",
    "    >>> interval.stop\n",
    "    10\n",
    "\n",
    "Si vous souhaitez récupérer cet objet range sous la forme d'une liste, il suffit de le convertir avec la fonction list :\n",
    "\n",
    "    >>> interval = list(interval)\n",
    "    >>> print(interval)\n",
    "    [0, 1, 2, 3, 4, 5, 6, 7, 8, 9]\n",
    "    >>> print(type(interval))\n",
    "    <class 'list'>\n",
    "\n",
    "Si vous utilisez Python 2, vous obtenez directement une liste, donc pas besoin de faire la conversion.\n",
    "\n",
    "    Python 2.7.15 (default, Jul 23 2018, 21:27:06)\n",
    "    [GCC 4.2.1 Compatible Apple LLVM 9.1.0 (clang-902.0.39.2)] on darwin\n",
    "    Type \"help\", \"copyright\", \"credits\" or \"license\" for more information.\n",
    "    >>> interval = range(10)\n",
    "    >>> print(interval)\n",
    "    [0, 1, 2, 3, 4, 5, 6, 7, 8, 9]\n",
    "    >>> print(type(interval))\n",
    "    <type 'list'>"
   ]
  },
  {
   "cell_type": "code",
   "execution_count": 55,
   "id": "86814fbd",
   "metadata": {},
   "outputs": [
    {
     "name": "stdout",
     "output_type": "stream",
     "text": [
      "Entrez un mot de passe (min 8 caractères) : sefsfe626sef6sf6s5efef16se4f\n",
      "Inscription terminée.\n"
     ]
    }
   ],
   "source": [
    "### Exercice\n",
    "\n",
    "mdp = input(\"Entrez un mot de passe (min 8 caractères) : \")\n",
    "mdp_trop_court = \"votre mot de passe est trop court.\"\n",
    "\n",
    "if len(mdp) == 0:\n",
    "    print(mdp_trop_court.upper())\n",
    "elif len(mdp) < 8:\n",
    "    print(mdp_trop_court.capitalize())\n",
    "elif mdp.isdigit() == True:\n",
    "    print(\"Votre mot de passe ne contient que des nombres.\")\n",
    "else:\n",
    "    print(\"Inscription terminée.\")\n"
   ]
  },
  {
   "cell_type": "code",
   "execution_count": null,
   "id": "f998cddc",
   "metadata": {},
   "outputs": [],
   "source": []
  }
 ],
 "metadata": {
  "kernelspec": {
   "display_name": "Python 3 (ipykernel)",
   "language": "python",
   "name": "python3"
  },
  "language_info": {
   "codemirror_mode": {
    "name": "ipython",
    "version": 3
   },
   "file_extension": ".py",
   "mimetype": "text/x-python",
   "name": "python",
   "nbconvert_exporter": "python",
   "pygments_lexer": "ipython3",
   "version": "3.10.4"
  }
 },
 "nbformat": 4,
 "nbformat_minor": 5
}

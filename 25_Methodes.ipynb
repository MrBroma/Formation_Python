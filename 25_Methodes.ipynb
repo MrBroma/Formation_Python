{
 "cells": [
  {
   "cell_type": "markdown",
   "id": "5b0fee11",
   "metadata": {},
   "source": [
    "### Méthodes vs Fonctions"
   ]
  },
  {
   "cell_type": "markdown",
   "id": "2e79687f",
   "metadata": {},
   "source": [
    "Une méthode est une fonction qui appartient à un objet\n",
    "    \n",
    "La fonction sorted pemret de trier une liste : **sorted(liste)**\n",
    "    \n",
    "La méthode sort permet de trier une liste : **liste.sort()**"
   ]
  },
  {
   "cell_type": "code",
   "execution_count": null,
   "id": "4daa17c5",
   "metadata": {},
   "outputs": [],
   "source": []
  }
 ],
 "metadata": {
  "kernelspec": {
   "display_name": "Python 3 (ipykernel)",
   "language": "python",
   "name": "python3"
  },
  "language_info": {
   "codemirror_mode": {
    "name": "ipython",
    "version": 3
   },
   "file_extension": ".py",
   "mimetype": "text/x-python",
   "name": "python",
   "nbconvert_exporter": "python",
   "pygments_lexer": "ipython3",
   "version": "3.10.4"
  }
 },
 "nbformat": 4,
 "nbformat_minor": 5
}

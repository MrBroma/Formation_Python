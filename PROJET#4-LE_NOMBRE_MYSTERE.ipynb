{
 "cells": [
  {
   "cell_type": "code",
   "execution_count": null,
   "id": "fc7627fb",
   "metadata": {
    "scrolled": true
   },
   "outputs": [],
   "source": [
    "import random\n",
    "# message d'accueil\n",
    "print(\"*** Le jeu du nombre mystère ***\")\n",
    "\n",
    "# Activation du compteur de tentative\n",
    "count = 5\n",
    "essai = 0\n",
    "nombre_mys = random.randint(0, 101)\n",
    "\n",
    "MENU_CHOICES = list(map(str, range(100 + 1)))\n",
    "\n",
    "while count > 0:\n",
    "    print(f\"Il te reste {count} essais\")\n",
    "    user_choice = input(\"Devine le nombre : \")\n",
    "\n",
    "    if user_choice not in MENU_CHOICES:\n",
    "        print(\"Veuillez choisir une option valide...\")\n",
    "        continue\n",
    "    \n",
    "    user_choice = int(user_choice)\n",
    "    if user_choice > nombre_mys:\n",
    "        print(f\"Le nombre mystère est plus petit que {user_choice}\")\n",
    "    elif user_choice < nombre_mys:\n",
    "        print(f\"Le nombre mystère est plus grand que {user_choice}\")\n",
    "    else:\n",
    "        print(f\"Bravo ! Le nombre mystère était bien {nombre_mys} !\")\n",
    "        print(f\"Tu as trouvé le nombre mystère en {essai} essai.\")\n",
    "        break\n",
    "    \n",
    "    count -= 1\n",
    "    essai += 1\n",
    "    \n",
    "    if count == 0:\n",
    "        print(f\"Dommage ! Le nombre mystère était {nombre_mys}\\nFin du jeu.\")\n",
    "    \n"
   ]
  },
  {
   "cell_type": "code",
   "execution_count": null,
   "id": "dbf203e2",
   "metadata": {},
   "outputs": [],
   "source": [
    "from random import randint\n",
    "\n",
    "number_to_find = randint(0, 100)\n",
    "remaining_attempts = 5\n",
    "\n",
    "print(\"*** Le jeu du nombre mystère ***\")\n",
    "\n",
    "# Boucle principale\n",
    "while remaining_attempts > 0:\n",
    "    print(f\"Il te reste {remaining_attempts} essai{'s' if remaining_attempts > 1 else ''}\")\n",
    "\n",
    "    # Saisie de l'utilisateur\n",
    "    user_choice = input(\"Devine le nombre : \")\n",
    "    if not user_choice.isdigit():\n",
    "        print(\"Veuillez entrer un nombre valide.\")\n",
    "        continue\n",
    "    \n",
    "    user_choice = int(user_choice)    \n",
    "\n",
    "    if number_to_find > user_choice:  # Plus grand\n",
    "        print(f\"Le nombre mystère est plus grand que {user_choice}\")\n",
    "    elif number_to_find < user_choice:  # Plus petit\n",
    "        print(f\"Le nombre mystère est plus petit que {user_choice}\")\n",
    "    else:  # Égal (succès)\n",
    "        break\n",
    "\n",
    "    remaining_attempts -= 1\n",
    "\n",
    "# Gagné ou perdu\n",
    "if remaining_attempts == 0:\n",
    "    print(f\"Dommage ! Le nombre mystère était {number_to_find}\")\n",
    "else:\n",
    "    print(f\"Bravo ! Le nombre mystère était bien {number_to_find} !\")\n",
    "    print(f\"Tu as trouvé le nombre en {6 - remaining_attempts} essai\")\n",
    "\n",
    "print(\"Fin du jeu.\")\n"
   ]
  },
  {
   "cell_type": "code",
   "execution_count": null,
   "id": "bb12f96e",
   "metadata": {},
   "outputs": [],
   "source": []
  }
 ],
 "metadata": {
  "kernelspec": {
   "display_name": "Python 3 (ipykernel)",
   "language": "python",
   "name": "python3"
  },
  "language_info": {
   "codemirror_mode": {
    "name": "ipython",
    "version": 3
   },
   "file_extension": ".py",
   "mimetype": "text/x-python",
   "name": "python",
   "nbconvert_exporter": "python",
   "pygments_lexer": "ipython3",
   "version": "3.10.4"
  }
 },
 "nbformat": 4,
 "nbformat_minor": 5
}

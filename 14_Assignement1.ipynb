{
 "cells": [
  {
   "cell_type": "code",
   "execution_count": 4,
   "id": "f7965d98",
   "metadata": {},
   "outputs": [],
   "source": [
    "a = \"J'ai une classe de \" + str(30) + \" élèves\"\n",
    "b = str(10) + \" + \" + \"5\" + \" est égal à \" + str(15)\n",
    "c = 10 + int(\"5\")\n",
    "d = \"L'addition de 10 + 5 est égal à \" + str(10 + 5)"
   ]
  },
  {
   "cell_type": "code",
   "execution_count": 5,
   "id": "3025f1a3",
   "metadata": {},
   "outputs": [
    {
     "name": "stdout",
     "output_type": "stream",
     "text": [
      "J'ai une classe de 30 élèves\n",
      "10 + 5 est égal à 15\n",
      "15\n",
      "L'addition de 10 + 5 est égal à 15\n"
     ]
    }
   ],
   "source": [
    "print(a)\n",
    "print(b)\n",
    "print(c)\n",
    "print(d)"
   ]
  },
  {
   "cell_type": "code",
   "execution_count": null,
   "id": "c74bf326",
   "metadata": {},
   "outputs": [],
   "source": []
  }
 ],
 "metadata": {
  "kernelspec": {
   "display_name": "Python 3 (ipykernel)",
   "language": "python",
   "name": "python3"
  },
  "language_info": {
   "codemirror_mode": {
    "name": "ipython",
    "version": 3
   },
   "file_extension": ".py",
   "mimetype": "text/x-python",
   "name": "python",
   "nbconvert_exporter": "python",
   "pygments_lexer": "ipython3",
   "version": "3.10.5"
  }
 },
 "nbformat": 4,
 "nbformat_minor": 5
}

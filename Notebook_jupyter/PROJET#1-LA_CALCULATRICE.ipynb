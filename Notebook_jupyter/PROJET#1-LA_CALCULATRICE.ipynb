{
 "cells": [
  {
   "cell_type": "code",
   "execution_count": 1,
   "id": "34f6d25f",
   "metadata": {},
   "outputs": [
    {
     "name": "stdout",
     "output_type": "stream",
     "text": [
      "Veuillez entrer un premier nombre : 20\n",
      "Veuillez entrer un deuxième nombre : 85\n",
      "Le résultat de l'addition du nombre 20 avec le nombre 85 est égal à 105\n"
     ]
    }
   ],
   "source": [
    "a = int(input(\"Veuillez entrer un premier nombre : \"))\n",
    "b = int(input(\"Veuillez entrer un deuxième nombre : \"))\n",
    "print(f\"Le résultat de l'addition du nombre {a} avec le nombre {b} est égal à {a + b}\")"
   ]
  },
  {
   "cell_type": "code",
   "execution_count": null,
   "id": "59e9d116",
   "metadata": {},
   "outputs": [],
   "source": []
  }
 ],
 "metadata": {
  "kernelspec": {
   "display_name": "Python 3 (ipykernel)",
   "language": "python",
   "name": "python3"
  },
  "language_info": {
   "codemirror_mode": {
    "name": "ipython",
    "version": 3
   },
   "file_extension": ".py",
   "mimetype": "text/x-python",
   "name": "python",
   "nbconvert_exporter": "python",
   "pygments_lexer": "ipython3",
   "version": "3.10.4"
  }
 },
 "nbformat": 4,
 "nbformat_minor": 5
}

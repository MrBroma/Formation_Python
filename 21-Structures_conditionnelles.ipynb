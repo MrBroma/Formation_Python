{
 "cells": [
  {
   "cell_type": "markdown",
   "id": "3deb3732",
   "metadata": {},
   "source": [
    "### Structures conditionnelles"
   ]
  },
  {
   "cell_type": "markdown",
   "id": "e88187d7",
   "metadata": {},
   "source": [
    "- Le nombre entré par l'utilisateur est-il plus grand ou égal à 18 ?  \n",
    "age >= 18  \n",
    "\n",
    "\n",
    "- Le nom de l'utilisateur entré est-il dans la base de donnée du site ?  \n",
    "nom_utilisateur in list_utilisateurs  \n",
    "\n",
    "\n",
    "- Le mot de passe de l'utilisateur contienr-il 8 caractères?  \n",
    "len(mot_de_pass) > 8"
   ]
  },
  {
   "cell_type": "markdown",
   "id": "68471979",
   "metadata": {},
   "source": [
    "### Condition if"
   ]
  },
  {
   "cell_type": "code",
   "execution_count": 4,
   "id": "cdb2b10f",
   "metadata": {},
   "outputs": [
    {
     "name": "stdout",
     "output_type": "stream",
     "text": [
      "Vous êtes majeur!\n"
     ]
    }
   ],
   "source": [
    "age = 20\n",
    "if age >= 18:\n",
    "    print(\"Vous êtes majeur!\")"
   ]
  },
  {
   "cell_type": "markdown",
   "id": "a5eb568b",
   "metadata": {},
   "source": [
    "A la fin du if on a les :  \n",
    "\n",
    "\n",
    "Et la condition subit une indentation  "
   ]
  },
  {
   "cell_type": "markdown",
   "id": "48e9a93e",
   "metadata": {},
   "source": [
    "### Les blocs d'instructions"
   ]
  },
  {
   "cell_type": "markdown",
   "id": "4c322879",
   "metadata": {},
   "source": [
    "Les blocs d'instructions dépendent de la mise en page"
   ]
  },
  {
   "cell_type": "markdown",
   "id": "55395a75",
   "metadata": {},
   "source": [
    "### Tester plusieurs conditions"
   ]
  },
  {
   "cell_type": "markdown",
   "id": "e27a75be",
   "metadata": {},
   "source": [
    "```python\n",
    "if age >=18:  \n",
    "    print(\"Vous êtes majeur\")  \n",
    "elif age < 18:  \n",
    "    print(\"Vous êtes mineur\")\n",
    "```"
   ]
  },
  {
   "cell_type": "markdown",
   "id": "42e73a72",
   "metadata": {},
   "source": [
    "### Structure conditionnelle avancée avec else\n",
    "\n",
    "```python\n",
    "utilisateur = \"root\"\n",
    "if utilisateur == \"admin\":\n",
    "    print(\"Accès autorisé !\")\n",
    "elif utilisateur == \"root\":\n",
    "    print(\"Accès autorisé !\")\n",
    "else:\n",
    "    print(\"Accès refusé !\")\n",
    "```"
   ]
  },
  {
   "cell_type": "markdown",
   "id": "af2225f6",
   "metadata": {},
   "source": [
    "### Opérateurs ternaires"
   ]
  },
  {
   "cell_type": "markdown",
   "id": "e165613e",
   "metadata": {},
   "source": [
    "```python\n",
    "age = 20\n",
    "\n",
    "if age >= 18:\n",
    "    majeur = True\n",
    "else:\n",
    "    majeur = False\n",
    "\n",
    "# Ne fonctionne uniquement avec un if / else\n",
    "age = 20\n",
    "\n",
    "majeur = True if age >= 18 else False\n",
    "```"
   ]
  },
  {
   "cell_type": "markdown",
   "id": "01589848",
   "metadata": {},
   "source": [
    "### Les opérateurs logiques (and, or et not)"
   ]
  },
  {
   "cell_type": "markdown",
   "id": "045a9576",
   "metadata": {},
   "source": [
    "Le and le plus fort et évalusé en premier"
   ]
  },
  {
   "cell_type": "markdown",
   "id": "aa19a692",
   "metadata": {},
   "source": [
    "#### Structure conditionnelle avancée - Exercice 01 - Solution"
   ]
  },
  {
   "cell_type": "code",
   "execution_count": 4,
   "id": "1ec0f11a",
   "metadata": {},
   "outputs": [
    {
     "name": "stdout",
     "output_type": "stream",
     "text": [
      "Quelle est votre note ?: 20\n",
      "C'est un sans faute !\n"
     ]
    }
   ],
   "source": [
    "note = int(input(\"Quelle est votre note ?: \"))\n",
    "commentaire = \"\"\n",
    " \n",
    "if note < 3 :\n",
    "    commentaire = \"Sans commentaire...\"\n",
    "elif note >= 18 and note < 20:\n",
    "    commentaire = \"Excellent !!\"\n",
    "elif note == 20:\n",
    "    commentaire = \"C'est un sans faute !\"\n",
    "elif note > 14 :\n",
    "    commentaire = \"Bon travail !\"\n",
    "elif note > 10 :\n",
    "    commentaire = \"Peut mieux faire.\"\n",
    "elif note > 6 :\n",
    "    commentaire = \"Il faut tout revoir...\"\n",
    "elif note >= 3:\n",
    "    commentaire = \"Tu n'as rien compris !\"\n",
    " \n",
    "print(commentaire)"
   ]
  },
  {
   "cell_type": "markdown",
   "id": "08678c57",
   "metadata": {},
   "source": [
    "Les mots réservés par Python\n",
    "\n",
    "Dans la partie précédente, nous avons vu que certains mots étaient réservés par Python pour définir certaines actions.\n",
    "\n",
    "Si vous essayez de définir une variable qui a le même nom que l'un de ces mots réservés, vous aurez une erreur de syntaxe.\n",
    "\n",
    "Voici donc la liste des mots réservés par Python qu'il vaut mieux éviter de déranger ;)\n",
    "\n",
    "    False\n",
    "    None\n",
    "    True\n",
    "    and\n",
    "    as\n",
    "    assert\n",
    "    break\n",
    "    class\n",
    "    continue\n",
    "    def\n",
    "    del\n",
    "    elif\n",
    "    else\n",
    "    except\n",
    "    finally\n",
    "    for\n",
    "    from\n",
    "    global\n",
    "    if\n",
    "    import\n",
    "    in\n",
    "    is\n",
    "    lambda\n",
    "    non local\n",
    "    not\n",
    "    or\n",
    "    pass\n",
    "    raise\n",
    "    return\n",
    "    try\n",
    "    while\n",
    "    with\n",
    "    yield\n",
    "\n",
    "Ça fait beaucoup vu comme ça mais vous devriez déjà reconnaître la plupart d'entre eux.\n",
    "\n",
    "Plus vous allez utiliser Python, plus vous serez habitué à reconnaître ces mots réservés.\n",
    "\n",
    "Il est aussi important de toujours se fier à la coloration syntaxique de son éditeur de texte qui doit être en mesure de nous avertir dès lors que nous utilisons un de ces mots réservés, en le colorant d'une couleur particulière.\n"
   ]
  },
  {
   "cell_type": "code",
   "execution_count": null,
   "id": "131fbc08",
   "metadata": {},
   "outputs": [],
   "source": []
  }
 ],
 "metadata": {
  "kernelspec": {
   "display_name": "Python 3 (ipykernel)",
   "language": "python",
   "name": "python3"
  },
  "language_info": {
   "codemirror_mode": {
    "name": "ipython",
    "version": 3
   },
   "file_extension": ".py",
   "mimetype": "text/x-python",
   "name": "python",
   "nbconvert_exporter": "python",
   "pygments_lexer": "ipython3",
   "version": "3.10.4"
  }
 },
 "nbformat": 4,
 "nbformat_minor": 5
}

{
 "cells": [
  {
   "cell_type": "markdown",
   "id": "c310559b",
   "metadata": {},
   "source": [
    "### Exercise #1"
   ]
  },
  {
   "cell_type": "code",
   "execution_count": null,
   "id": "6a2dc090",
   "metadata": {
    "scrolled": true
   },
   "outputs": [],
   "source": [
    "\"\"\"\n",
    "Votre script doit afficher les chaînes de caractères suivantes :\n",
    "Utilisateur 1\n",
    "Utilisateur 2\n",
    "Utilisateur 3\n",
    "Utilisateur 4\n",
    "Utilisateur 5\n",
    "Utilisateur 6\n",
    "Utilisateur 7\n",
    "Utilisateur 8\n",
    "Utilisateur 9\n",
    "Utilisateur 10\n",
    "\"\"\""
   ]
  },
  {
   "cell_type": "code",
   "execution_count": 2,
   "id": "5ff1ac46",
   "metadata": {},
   "outputs": [
    {
     "name": "stdout",
     "output_type": "stream",
     "text": [
      "Utilisateur 1\n",
      "Utilisateur 2\n",
      "Utilisateur 3\n",
      "Utilisateur 4\n",
      "Utilisateur 5\n",
      "Utilisateur 6\n",
      "Utilisateur 7\n",
      "Utilisateur 8\n",
      "Utilisateur 9\n",
      "Utilisateur 10\n"
     ]
    }
   ],
   "source": [
    "for x in range (1, 11):\n",
    "    print(f\"Utilisateur {x}\")"
   ]
  },
  {
   "cell_type": "code",
   "execution_count": 3,
   "id": "5b305872",
   "metadata": {},
   "outputs": [
    {
     "name": "stdout",
     "output_type": "stream",
     "text": [
      "Utilisateur 1\n",
      "Utilisateur 2\n",
      "Utilisateur 3\n",
      "Utilisateur 4\n",
      "Utilisateur 5\n",
      "Utilisateur 6\n",
      "Utilisateur 7\n",
      "Utilisateur 8\n",
      "Utilisateur 9\n",
      "Utilisateur 10\n",
      "Utilisateur 1\n",
      "Utilisateur 2\n",
      "Utilisateur 3\n",
      "Utilisateur 4\n",
      "Utilisateur 5\n",
      "Utilisateur 6\n",
      "Utilisateur 7\n",
      "Utilisateur 8\n",
      "Utilisateur 9\n",
      "Utilisateur 10\n"
     ]
    }
   ],
   "source": [
    "# Solution #1\n",
    "\n",
    "for i in range(10):\n",
    "    print(f\"Utilisateur {i + 1}\")\n",
    "\n",
    "# Solution #2\n",
    "\n",
    "for i in range(1, 11):\n",
    "    print(f\"Utilisateur {i}\")"
   ]
  },
  {
   "cell_type": "markdown",
   "id": "4ff80289",
   "metadata": {},
   "source": [
    "### Exercise #2"
   ]
  },
  {
   "cell_type": "code",
   "execution_count": null,
   "id": "dcef2634",
   "metadata": {},
   "outputs": [],
   "source": [
    "\"\"\"\n",
    "Dans cet exercice vous devez afficher les lettres du mot 'Python' dans le sens inverse.\n",
    "Votre script devra donc afficher :\n",
    "n\n",
    "o\n",
    "h\n",
    "t\n",
    "y\n",
    "P\n",
    "\"\"\""
   ]
  },
  {
   "cell_type": "code",
   "execution_count": 12,
   "id": "7e5ff26f",
   "metadata": {},
   "outputs": [
    {
     "name": "stdout",
     "output_type": "stream",
     "text": [
      "n\n",
      "o\n",
      "h\n",
      "t\n",
      "y\n",
      "P\n"
     ]
    }
   ],
   "source": [
    "# Solution 1\n",
    "x = \"Python\"\n",
    "for i in reversed(x):\n",
    "    print(i)"
   ]
  },
  {
   "cell_type": "code",
   "execution_count": 13,
   "id": "c51ede06",
   "metadata": {},
   "outputs": [
    {
     "name": "stdout",
     "output_type": "stream",
     "text": [
      "n\n",
      "o\n",
      "h\n",
      "t\n",
      "y\n",
      "P\n"
     ]
    }
   ],
   "source": [
    "# Solution 2\n",
    "mot = \"Python\"\n",
    "for lettre in mot[::-1]:\n",
    "    print(lettre)"
   ]
  },
  {
   "cell_type": "code",
   "execution_count": 26,
   "id": "3c40205e",
   "metadata": {},
   "outputs": [
    {
     "name": "stdout",
     "output_type": "stream",
     "text": [
      "0 x 7 = 0\n",
      "1 x 7 = 7\n",
      "2 x 7 = 14\n",
      "3 x 7 = 21\n",
      "4 x 7 = 28\n",
      "5 x 7 = 35\n",
      "6 x 7 = 42\n",
      "7 x 7 = 49\n",
      "8 x 7 = 56\n",
      "9 x 7 = 63\n",
      "10 x 7 = 70\n"
     ]
    }
   ],
   "source": [
    "# Afficher la table de multiplication d'un nombre. ex : 7\n",
    "nombre = 7\n",
    "\n",
    "for i in range(11):\n",
    "    print(i, \"x\", nombre, \"=\", i * nombre)"
   ]
  },
  {
   "cell_type": "code",
   "execution_count": 27,
   "id": "10abc0ae",
   "metadata": {},
   "outputs": [
    {
     "name": "stdout",
     "output_type": "stream",
     "text": [
      "0 x 7 = 0\n",
      "1 x 7 = 7\n",
      "2 x 7 = 14\n",
      "3 x 7 = 21\n",
      "4 x 7 = 28\n",
      "5 x 7 = 35\n",
      "6 x 7 = 42\n",
      "7 x 7 = 49\n",
      "8 x 7 = 56\n",
      "9 x 7 = 63\n",
      "10 x 7 = 70\n"
     ]
    }
   ],
   "source": [
    "nombre = 7\n",
    "     \n",
    "for i in range(11):\n",
    "    print(f\"{i} x {nombre} = {i * nombre}\")"
   ]
  },
  {
   "cell_type": "code",
   "execution_count": 28,
   "id": "f16f761a",
   "metadata": {},
   "outputs": [],
   "source": [
    "# Sortir d'une boucle infinie\n",
    "i = 0\n",
    "\n",
    "while i < 10:\n",
    "    i += 1\n",
    "    pass\n",
    "\n",
    "resultat = \"Exercice réussi !\""
   ]
  },
  {
   "cell_type": "markdown",
   "id": "7881ae5f",
   "metadata": {},
   "source": [
    "### Exercise #3"
   ]
  },
  {
   "cell_type": "code",
   "execution_count": 32,
   "id": "7131495a",
   "metadata": {},
   "outputs": [
    {
     "name": "stdout",
     "output_type": "stream",
     "text": [
      "On continue !\n",
      "Voulez-vous continuer ? o/n n\n"
     ]
    }
   ],
   "source": [
    "# Comment peut-on permettre à l'utilisateur de sortir de la boucle\n",
    "# en modifiant les lignes de code dans la boucle while ?\n",
    "\n",
    "continuer = \"o\"\n",
    "while continuer == \"o\":\n",
    "    print(\"On continue !\")\n",
    "    continuer = input(\"Voulez-vous continuer ? o/n \")"
   ]
  },
  {
   "cell_type": "code",
   "execution_count": 31,
   "id": "16098764",
   "metadata": {},
   "outputs": [
    {
     "name": "stdout",
     "output_type": "stream",
     "text": [
      "On continue !\n",
      "Voulez-vous continuer ? o/n n\n"
     ]
    }
   ],
   "source": [
    "# Solution #1\n",
    "\n",
    "continuer = \"o\"\n",
    "while continuer == \"o\":\n",
    "    print(\"On continue !\")\n",
    "    continuer = input(\"Voulez-vous continuer ? o/n \")"
   ]
  },
  {
   "cell_type": "code",
   "execution_count": 35,
   "id": "c7e84150",
   "metadata": {},
   "outputs": [
    {
     "name": "stdout",
     "output_type": "stream",
     "text": [
      "On continue !\n",
      "Voulez-vous continuer ? o/n n\n"
     ]
    }
   ],
   "source": [
    "# Solution #2\n",
    "\n",
    "continuer = \"o\"\n",
    "while continuer == \"o\":\n",
    "    print(\"On continue !\")\n",
    "    resultat = input(\"Voulez-vous continuer ? o/n \")\n",
    "    if resultat != \"o\":\n",
    "        break"
   ]
  },
  {
   "cell_type": "code",
   "execution_count": null,
   "id": "a543eea0",
   "metadata": {},
   "outputs": [],
   "source": [
    "# Solution #3, avec Python 3.8 uniquement\n",
    "\n",
    "while (continuer := \"o\") == \"o\":\n",
    "    print(\"On continue !\")\n",
    "    if (resultat := input(\"Voulez-vous continuer ? o/n \")) != \"o\":\n",
    "        break"
   ]
  },
  {
   "cell_type": "markdown",
   "id": "9ee2f6dc",
   "metadata": {},
   "source": [
    "### Exercise #4"
   ]
  },
  {
   "cell_type": "code",
   "execution_count": 36,
   "id": "3d8dbcf9",
   "metadata": {},
   "outputs": [
    {
     "name": "stdout",
     "output_type": "stream",
     "text": [
      "[44, 4, 38]\n"
     ]
    }
   ],
   "source": [
    "# 1\n",
    "nombres = [1, 21, 5, 44, 4, 9, 5, 83, 29, 31, 25, 38]\n",
    "nombres_pairs = []\n",
    "for i in nombres:\n",
    "    if i % 2 == 0:\n",
    "        nombres_pairs.append(i)\n",
    "\n",
    "print(nombres_pairs)"
   ]
  },
  {
   "cell_type": "code",
   "execution_count": 37,
   "id": "8adcbbef",
   "metadata": {},
   "outputs": [
    {
     "name": "stdout",
     "output_type": "stream",
     "text": [
      "[0, 1, 2, 3, 4, 5, 6, 7, 8, 9]\n"
     ]
    }
   ],
   "source": [
    "# 2\n",
    "nombres = range(-10, 10)\n",
    "nombres_positifs = []\n",
    "for i in nombres:\n",
    "    if i >= 0:\n",
    "        nombres_positifs.append(i)\n",
    "\n",
    "print(nombres_positifs)"
   ]
  },
  {
   "cell_type": "code",
   "execution_count": 38,
   "id": "bda46dff",
   "metadata": {},
   "outputs": [
    {
     "name": "stdout",
     "output_type": "stream",
     "text": [
      "[0, 2, 4, 6, 8]\n"
     ]
    }
   ],
   "source": [
    "# 3\n",
    "nombres = range(5)\n",
    "nombres_doubles = []\n",
    "for i in nombres:\n",
    "    nombres_doubles.append(i * 2)\n",
    "\n",
    "print(nombres_doubles)"
   ]
  },
  {
   "cell_type": "code",
   "execution_count": 39,
   "id": "4227340d",
   "metadata": {},
   "outputs": [
    {
     "name": "stdout",
     "output_type": "stream",
     "text": [
      "[0, -1, 2, -3, 4, -5, 6, -7, 8, -9]\n"
     ]
    }
   ],
   "source": [
    "# 4\n",
    "nombres = range(10)\n",
    "nombres_inverses = []\n",
    "for i in nombres:\n",
    "    if i % 2 == 0:\n",
    "        nombres_inverses.append(i)\n",
    "    else:\n",
    "        nombres_inverses.append(-i)\n",
    "\n",
    "print(nombres_inverses)"
   ]
  },
  {
   "cell_type": "code",
   "execution_count": 4,
   "id": "8cf5186f",
   "metadata": {},
   "outputs": [
    {
     "name": "stdout",
     "output_type": "stream",
     "text": [
      "[44, 4, 38]\n"
     ]
    }
   ],
   "source": [
    "# 1\n",
    "nombres = [1, 21, 5, 44, 4, 9, 5, 83, 29, 31, 25, 38]\n",
    "\n",
    "nombres_pairs = [i for i in nombres if i % 2 == 0]\n",
    "\n",
    "print(nombres_pairs)"
   ]
  },
  {
   "cell_type": "code",
   "execution_count": 5,
   "id": "b89714b6",
   "metadata": {},
   "outputs": [
    {
     "name": "stdout",
     "output_type": "stream",
     "text": [
      "[0, 1, 2, 3, 4, 5, 6, 7, 8, 9]\n"
     ]
    }
   ],
   "source": [
    "# 2\n",
    "nombres = range(-10, 10)\n",
    "\n",
    "nombres_positifs = [i for i in nombres if i >= 0]\n",
    "\n",
    "print(nombres_positifs)"
   ]
  },
  {
   "cell_type": "code",
   "execution_count": 6,
   "id": "aba43e5f",
   "metadata": {},
   "outputs": [
    {
     "name": "stdout",
     "output_type": "stream",
     "text": [
      "[0, 2, 4, 6, 8]\n"
     ]
    }
   ],
   "source": [
    "# 3\n",
    "nombres = range(5)\n",
    "\n",
    "nombres_doubles = [i * 2 for i in nombres]\n",
    "\n",
    "print(nombres_doubles)"
   ]
  },
  {
   "cell_type": "code",
   "execution_count": 12,
   "id": "252f1089",
   "metadata": {},
   "outputs": [
    {
     "name": "stdout",
     "output_type": "stream",
     "text": [
      "[0, -1, 2, -3, 4, -5, 6, -7, 8, -9]\n"
     ]
    }
   ],
   "source": [
    "# 4\n",
    "nombres = range(10)\n",
    "\n",
    "nombres_inverses = [i if i % 2 ==0 else -i for i in nombres]\n",
    "\n",
    "print(nombres_inverses)"
   ]
  },
  {
   "cell_type": "code",
   "execution_count": 22,
   "id": "73b686ab",
   "metadata": {},
   "outputs": [],
   "source": [
    "nombres = range(51)\n",
    "nombres_pairs = [i for i in nombres if i % 2 == 0]"
   ]
  },
  {
   "cell_type": "code",
   "execution_count": 23,
   "id": "44a1893b",
   "metadata": {},
   "outputs": [
    {
     "name": "stdout",
     "output_type": "stream",
     "text": [
      "[0, 2, 4, 6, 8, 10, 12, 14, 16, 18, 20, 22, 24, 26, 28, 30, 32, 34, 36, 38, 40, 42, 44, 46, 48, 50]\n"
     ]
    }
   ],
   "source": [
    "# Autres solution sans comprehension liste\n",
    "\n",
    "nombres = range(51)\n",
    "nombres_pairs = []\n",
    "\n",
    "for i in nombres:\n",
    "    if i % 2 == 0:\n",
    "        nombres_pairs.append(i)\n",
    "print(nombres_pairs)"
   ]
  },
  {
   "cell_type": "code",
   "execution_count": null,
   "id": "81038ca6",
   "metadata": {},
   "outputs": [],
   "source": []
  }
 ],
 "metadata": {
  "kernelspec": {
   "display_name": "Python 3 (ipykernel)",
   "language": "python",
   "name": "python3"
  },
  "language_info": {
   "codemirror_mode": {
    "name": "ipython",
    "version": 3
   },
   "file_extension": ".py",
   "mimetype": "text/x-python",
   "name": "python",
   "nbconvert_exporter": "python",
   "pygments_lexer": "ipython3",
   "version": "3.10.4"
  }
 },
 "nbformat": 4,
 "nbformat_minor": 5
}

{
 "cells": [
  {
   "cell_type": "markdown",
   "id": "5b0fee11",
   "metadata": {},
   "source": [
    "### Méthodes vs Fonctions"
   ]
  },
  {
   "cell_type": "markdown",
   "id": "2e79687f",
   "metadata": {},
   "source": [
    "Une méthode est une fonction qui appartient à un objet\n",
    "    \n",
    "La fonction sorted pemret de trier une liste : **sorted(liste)**\n",
    "    \n",
    "La méthode sort permet de trier une liste : **liste.sort()**"
   ]
  },
  {
   "cell_type": "markdown",
   "id": "3fdb7941",
   "metadata": {},
   "source": [
    "Le fonction sorted va nous retourner une version ordonnée de la liste mais sans toucher à la liste d'origine"
   ]
  },
  {
   "cell_type": "code",
   "execution_count": 3,
   "id": "e0bb590d",
   "metadata": {},
   "outputs": [
    {
     "name": "stdout",
     "output_type": "stream",
     "text": [
      "[5, 3, 9, 7, 1]\n"
     ]
    }
   ],
   "source": [
    "liste = [5, 3, 9, 7, 1]\n",
    "sorted(liste)\n",
    "print(liste)"
   ]
  },
  {
   "cell_type": "code",
   "execution_count": 5,
   "id": "4a20765c",
   "metadata": {},
   "outputs": [
    {
     "name": "stdout",
     "output_type": "stream",
     "text": [
      "[1, 3, 5, 7, 9]\n"
     ]
    }
   ],
   "source": [
    "liste = [5, 3, 9, 7, 1]\n",
    "sorted_liste = sorted(liste)\n",
    "print(sorted_liste)"
   ]
  },
  {
   "cell_type": "markdown",
   "id": "c052e0d1",
   "metadata": {},
   "source": [
    "Si on réalise sorted sur notre liste elle sera écrasée"
   ]
  },
  {
   "cell_type": "code",
   "execution_count": 7,
   "id": "7e53094a",
   "metadata": {},
   "outputs": [
    {
     "name": "stdout",
     "output_type": "stream",
     "text": [
      "[1, 3, 5, 7, 9]\n"
     ]
    }
   ],
   "source": [
    "liste = [5, 3, 9, 7, 1]\n",
    "liste = liste.sort()\n",
    "print(liste)"
   ]
  },
  {
   "cell_type": "code",
   "execution_count": 8,
   "id": "b2b9e063",
   "metadata": {},
   "outputs": [
    {
     "data": {
      "text/plain": [
       "5"
      ]
     },
     "execution_count": 8,
     "metadata": {},
     "output_type": "execute_result"
    }
   ],
   "source": [
    "a = \"5\"\n",
    "int(a)"
   ]
  },
  {
   "cell_type": "code",
   "execution_count": 9,
   "id": "2414acb9",
   "metadata": {},
   "outputs": [
    {
     "data": {
      "text/plain": [
       "'5'"
      ]
     },
     "execution_count": 9,
     "metadata": {},
     "output_type": "execute_result"
    }
   ],
   "source": [
    "a"
   ]
  },
  {
   "cell_type": "code",
   "execution_count": 10,
   "id": "1d3f0ba1",
   "metadata": {},
   "outputs": [],
   "source": [
    "a = int(a)"
   ]
  },
  {
   "cell_type": "code",
   "execution_count": 11,
   "id": "ee91611e",
   "metadata": {},
   "outputs": [
    {
     "name": "stdout",
     "output_type": "stream",
     "text": [
      "5\n"
     ]
    }
   ],
   "source": [
    "print(a)"
   ]
  },
  {
   "cell_type": "markdown",
   "id": "eaf8a4b9",
   "metadata": {},
   "source": [
    "### Les objets muables et immuables"
   ]
  },
  {
   "cell_type": "code",
   "execution_count": 14,
   "id": "9d61366f",
   "metadata": {},
   "outputs": [
    {
     "name": "stdout",
     "output_type": "stream",
     "text": [
      "le seigneur des anneaux\n"
     ]
    }
   ],
   "source": [
    "livre = \"le seigneur des anneaux\"\n",
    "livre.title()\n",
    "print(livre)"
   ]
  },
  {
   "cell_type": "markdown",
   "id": "ffc66da1",
   "metadata": {},
   "source": [
    "Différent de liste.append()"
   ]
  },
  {
   "cell_type": "code",
   "execution_count": 16,
   "id": "403d351f",
   "metadata": {},
   "outputs": [
    {
     "name": "stdout",
     "output_type": "stream",
     "text": [
      "Le Seigneur Des Anneaux\n"
     ]
    }
   ],
   "source": [
    "livre = livre.title()\n",
    "print(livre)"
   ]
  },
  {
   "cell_type": "markdown",
   "id": "e16d4317",
   "metadata": {},
   "source": [
    "### La fonction len()"
   ]
  },
  {
   "cell_type": "code",
   "execution_count": null,
   "id": "869fc426",
   "metadata": {},
   "outputs": [],
   "source": []
  }
 ],
 "metadata": {
  "kernelspec": {
   "display_name": "Python 3 (ipykernel)",
   "language": "python",
   "name": "python3"
  },
  "language_info": {
   "codemirror_mode": {
    "name": "ipython",
    "version": 3
   },
   "file_extension": ".py",
   "mimetype": "text/x-python",
   "name": "python",
   "nbconvert_exporter": "python",
   "pygments_lexer": "ipython3",
   "version": "3.10.4"
  }
 },
 "nbformat": 4,
 "nbformat_minor": 5
}

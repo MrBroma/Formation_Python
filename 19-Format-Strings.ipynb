{
 "cells": [
  {
   "cell_type": "markdown",
   "id": "7f106fd9",
   "metadata": {},
   "source": [
    "   ### Concaténation et f-string"
   ]
  },
  {
   "cell_type": "code",
   "execution_count": 1,
   "id": "a319acdc",
   "metadata": {},
   "outputs": [
    {
     "data": {
      "text/plain": [
       "'Bonjourtouslemonde'"
      ]
     },
     "execution_count": 1,
     "metadata": {},
     "output_type": "execute_result"
    }
   ],
   "source": [
    "\"Bonjour\" + \"tous\" + \"le\" + \"monde\""
   ]
  },
  {
   "cell_type": "code",
   "execution_count": 2,
   "id": "484a7ea0",
   "metadata": {},
   "outputs": [
    {
     "data": {
      "text/plain": [
       "'Vous avez entré le nombre 5'"
      ]
     },
     "execution_count": 2,
     "metadata": {},
     "output_type": "execute_result"
    }
   ],
   "source": [
    "\"Vous avez entré le nombre \" + str(5)"
   ]
  },
  {
   "cell_type": "markdown",
   "id": "813bb87c",
   "metadata": {},
   "source": [
    "Les f-string"
   ]
  },
  {
   "cell_type": "code",
   "execution_count": 4,
   "id": "9bbe9ac1",
   "metadata": {},
   "outputs": [
    {
     "data": {
      "text/plain": [
       "'Bonjour Paul !'"
      ]
     },
     "execution_count": 4,
     "metadata": {},
     "output_type": "execute_result"
    }
   ],
   "source": [
    "prenom = \"Paul\"\n",
    "f\"Bonjour {prenom} !\""
   ]
  },
  {
   "cell_type": "code",
   "execution_count": 5,
   "id": "2f0c74c9",
   "metadata": {},
   "outputs": [
    {
     "data": {
      "text/plain": [
       "'La multiplication de 5 par 10 est égale à 50'"
      ]
     },
     "execution_count": 5,
     "metadata": {},
     "output_type": "execute_result"
    }
   ],
   "source": [
    "a = 5\n",
    "b = 10\n",
    "f\"La multiplication de {a} par {b} est égale à {a * b}\""
   ]
  },
  {
   "cell_type": "code",
   "execution_count": null,
   "id": "15e062f7",
   "metadata": {},
   "outputs": [],
   "source": []
  }
 ],
 "metadata": {
  "kernelspec": {
   "display_name": "Python 3 (ipykernel)",
   "language": "python",
   "name": "python3"
  },
  "language_info": {
   "codemirror_mode": {
    "name": "ipython",
    "version": 3
   },
   "file_extension": ".py",
   "mimetype": "text/x-python",
   "name": "python",
   "nbconvert_exporter": "python",
   "pygments_lexer": "ipython3",
   "version": "3.10.5"
  }
 },
 "nbformat": 4,
 "nbformat_minor": 5
}
